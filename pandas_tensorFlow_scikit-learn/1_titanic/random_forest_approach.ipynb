{
 "cells": [
  {
   "cell_type": "code",
   "execution_count": 1,
   "id": "e5027896",
   "metadata": {
    "_cell_guid": "b1076dfc-b9ad-4769-8c92-a6c4dae69d19",
    "_uuid": "8f2839f25d086af736a60e9eeb907d3b93b6e0e5",
    "execution": {
     "iopub.execute_input": "2023-10-19T01:38:19.575378Z",
     "iopub.status.busy": "2023-10-19T01:38:19.575044Z",
     "iopub.status.idle": "2023-10-19T01:38:21.778421Z",
     "shell.execute_reply": "2023-10-19T01:38:21.777647Z"
    },
    "papermill": {
     "duration": 2.211875,
     "end_time": "2023-10-19T01:38:21.780222",
     "exception": false,
     "start_time": "2023-10-19T01:38:19.568347",
     "status": "completed"
    },
    "tags": []
   },
   "outputs": [
    {
     "name": "stderr",
     "output_type": "stream",
     "text": [
      "/opt/conda/lib/python3.10/site-packages/scipy/__init__.py:146: UserWarning: A NumPy version >=1.16.5 and <1.23.0 is required for this version of SciPy (detected version 1.23.5\n",
      "  warnings.warn(f\"A NumPy version >={np_minversion} and <{np_maxversion}\"\n"
     ]
    },
    {
     "name": "stdout",
     "output_type": "stream",
     "text": [
      "/kaggle/input/titanic/train.csv\n",
      "/kaggle/input/titanic/test.csv\n",
      "/kaggle/input/titanic/gender_submission.csv\n"
     ]
    }
   ],
   "source": [
    "%matplotlib inline\n",
    "import re\n",
    "import warnings\n",
    "import numpy as np\n",
    "import pandas as pd\n",
    "import matplotlib\n",
    "import matplotlib.pyplot as plt\n",
    "from sklearn.tree import DecisionTreeClassifier\n",
    "from sklearn.ensemble import RandomForestClassifier\n",
    "from sklearn.model_selection import train_test_split\n",
    "from sklearn.metrics import accuracy_score\n",
    "from xgboost import XGBClassifier\n",
    "\n",
    "import os\n",
    "for dirname, _, filenames in os.walk('/kaggle/input'):\n",
    "    for filename in filenames:\n",
    "        print(os.path.join(dirname, filename))\n"
   ]
  },
  {
   "cell_type": "markdown",
   "id": "ee6215d2",
   "metadata": {
    "papermill": {
     "duration": 0.004925,
     "end_time": "2023-10-19T01:38:21.790777",
     "exception": false,
     "start_time": "2023-10-19T01:38:21.785852",
     "status": "completed"
    },
    "tags": []
   },
   "source": [
    "# 1) Understanding the Data"
   ]
  },
  {
   "cell_type": "code",
   "execution_count": 2,
   "id": "289445b4",
   "metadata": {
    "execution": {
     "iopub.execute_input": "2023-10-19T01:38:21.802321Z",
     "iopub.status.busy": "2023-10-19T01:38:21.801969Z",
     "iopub.status.idle": "2023-10-19T01:38:21.822019Z",
     "shell.execute_reply": "2023-10-19T01:38:21.821268Z"
    },
    "papermill": {
     "duration": 0.027587,
     "end_time": "2023-10-19T01:38:21.823600",
     "exception": false,
     "start_time": "2023-10-19T01:38:21.796013",
     "status": "completed"
    },
    "tags": []
   },
   "outputs": [
    {
     "name": "stdout",
     "output_type": "stream",
     "text": [
      "The dimensions of the training set are (891, 12)\n"
     ]
    }
   ],
   "source": [
    "train_data = pd.read_csv('/kaggle/input/titanic/train.csv')\n",
    "train_data.head()\n",
    "print(f\"The dimensions of the training set are {train_data.shape}\")"
   ]
  },
  {
   "cell_type": "code",
   "execution_count": 3,
   "id": "544e73d7",
   "metadata": {
    "execution": {
     "iopub.execute_input": "2023-10-19T01:38:21.834800Z",
     "iopub.status.busy": "2023-10-19T01:38:21.834479Z",
     "iopub.status.idle": "2023-10-19T01:38:21.862678Z",
     "shell.execute_reply": "2023-10-19T01:38:21.861734Z"
    },
    "papermill": {
     "duration": 0.03597,
     "end_time": "2023-10-19T01:38:21.864392",
     "exception": false,
     "start_time": "2023-10-19T01:38:21.828422",
     "status": "completed"
    },
    "tags": []
   },
   "outputs": [
    {
     "name": "stdout",
     "output_type": "stream",
     "text": [
      "<class 'pandas.core.frame.DataFrame'>\n",
      "RangeIndex: 891 entries, 0 to 890\n",
      "Data columns (total 12 columns):\n",
      " #   Column       Non-Null Count  Dtype  \n",
      "---  ------       --------------  -----  \n",
      " 0   PassengerId  891 non-null    int64  \n",
      " 1   Survived     891 non-null    int64  \n",
      " 2   Pclass       891 non-null    int64  \n",
      " 3   Name         891 non-null    object \n",
      " 4   Sex          891 non-null    object \n",
      " 5   Age          714 non-null    float64\n",
      " 6   SibSp        891 non-null    int64  \n",
      " 7   Parch        891 non-null    int64  \n",
      " 8   Ticket       891 non-null    object \n",
      " 9   Fare         891 non-null    float64\n",
      " 10  Cabin        204 non-null    object \n",
      " 11  Embarked     889 non-null    object \n",
      "dtypes: float64(2), int64(5), object(5)\n",
      "memory usage: 83.7+ KB\n"
     ]
    }
   ],
   "source": [
    "train_data.info()"
   ]
  },
  {
   "cell_type": "code",
   "execution_count": 4,
   "id": "ad51b046",
   "metadata": {
    "execution": {
     "iopub.execute_input": "2023-10-19T01:38:21.876067Z",
     "iopub.status.busy": "2023-10-19T01:38:21.875823Z",
     "iopub.status.idle": "2023-10-19T01:38:21.905801Z",
     "shell.execute_reply": "2023-10-19T01:38:21.905007Z"
    },
    "papermill": {
     "duration": 0.037769,
     "end_time": "2023-10-19T01:38:21.907561",
     "exception": false,
     "start_time": "2023-10-19T01:38:21.869792",
     "status": "completed"
    },
    "tags": []
   },
   "outputs": [
    {
     "data": {
      "text/html": [
       "<div>\n",
       "<style scoped>\n",
       "    .dataframe tbody tr th:only-of-type {\n",
       "        vertical-align: middle;\n",
       "    }\n",
       "\n",
       "    .dataframe tbody tr th {\n",
       "        vertical-align: top;\n",
       "    }\n",
       "\n",
       "    .dataframe thead th {\n",
       "        text-align: right;\n",
       "    }\n",
       "</style>\n",
       "<table border=\"1\" class=\"dataframe\">\n",
       "  <thead>\n",
       "    <tr style=\"text-align: right;\">\n",
       "      <th></th>\n",
       "      <th>PassengerId</th>\n",
       "      <th>Survived</th>\n",
       "      <th>Pclass</th>\n",
       "      <th>Age</th>\n",
       "      <th>SibSp</th>\n",
       "      <th>Parch</th>\n",
       "      <th>Fare</th>\n",
       "    </tr>\n",
       "  </thead>\n",
       "  <tbody>\n",
       "    <tr>\n",
       "      <th>count</th>\n",
       "      <td>891.000000</td>\n",
       "      <td>891.000000</td>\n",
       "      <td>891.000000</td>\n",
       "      <td>714.000000</td>\n",
       "      <td>891.000000</td>\n",
       "      <td>891.000000</td>\n",
       "      <td>891.000000</td>\n",
       "    </tr>\n",
       "    <tr>\n",
       "      <th>mean</th>\n",
       "      <td>446.000000</td>\n",
       "      <td>0.383838</td>\n",
       "      <td>2.308642</td>\n",
       "      <td>29.699118</td>\n",
       "      <td>0.523008</td>\n",
       "      <td>0.381594</td>\n",
       "      <td>32.204208</td>\n",
       "    </tr>\n",
       "    <tr>\n",
       "      <th>std</th>\n",
       "      <td>257.353842</td>\n",
       "      <td>0.486592</td>\n",
       "      <td>0.836071</td>\n",
       "      <td>14.526497</td>\n",
       "      <td>1.102743</td>\n",
       "      <td>0.806057</td>\n",
       "      <td>49.693429</td>\n",
       "    </tr>\n",
       "    <tr>\n",
       "      <th>min</th>\n",
       "      <td>1.000000</td>\n",
       "      <td>0.000000</td>\n",
       "      <td>1.000000</td>\n",
       "      <td>0.420000</td>\n",
       "      <td>0.000000</td>\n",
       "      <td>0.000000</td>\n",
       "      <td>0.000000</td>\n",
       "    </tr>\n",
       "    <tr>\n",
       "      <th>25%</th>\n",
       "      <td>223.500000</td>\n",
       "      <td>0.000000</td>\n",
       "      <td>2.000000</td>\n",
       "      <td>20.125000</td>\n",
       "      <td>0.000000</td>\n",
       "      <td>0.000000</td>\n",
       "      <td>7.910400</td>\n",
       "    </tr>\n",
       "    <tr>\n",
       "      <th>50%</th>\n",
       "      <td>446.000000</td>\n",
       "      <td>0.000000</td>\n",
       "      <td>3.000000</td>\n",
       "      <td>28.000000</td>\n",
       "      <td>0.000000</td>\n",
       "      <td>0.000000</td>\n",
       "      <td>14.454200</td>\n",
       "    </tr>\n",
       "    <tr>\n",
       "      <th>75%</th>\n",
       "      <td>668.500000</td>\n",
       "      <td>1.000000</td>\n",
       "      <td>3.000000</td>\n",
       "      <td>38.000000</td>\n",
       "      <td>1.000000</td>\n",
       "      <td>0.000000</td>\n",
       "      <td>31.000000</td>\n",
       "    </tr>\n",
       "    <tr>\n",
       "      <th>max</th>\n",
       "      <td>891.000000</td>\n",
       "      <td>1.000000</td>\n",
       "      <td>3.000000</td>\n",
       "      <td>80.000000</td>\n",
       "      <td>8.000000</td>\n",
       "      <td>6.000000</td>\n",
       "      <td>512.329200</td>\n",
       "    </tr>\n",
       "  </tbody>\n",
       "</table>\n",
       "</div>"
      ],
      "text/plain": [
       "       PassengerId    Survived      Pclass         Age       SibSp  \\\n",
       "count   891.000000  891.000000  891.000000  714.000000  891.000000   \n",
       "mean    446.000000    0.383838    2.308642   29.699118    0.523008   \n",
       "std     257.353842    0.486592    0.836071   14.526497    1.102743   \n",
       "min       1.000000    0.000000    1.000000    0.420000    0.000000   \n",
       "25%     223.500000    0.000000    2.000000   20.125000    0.000000   \n",
       "50%     446.000000    0.000000    3.000000   28.000000    0.000000   \n",
       "75%     668.500000    1.000000    3.000000   38.000000    1.000000   \n",
       "max     891.000000    1.000000    3.000000   80.000000    8.000000   \n",
       "\n",
       "            Parch        Fare  \n",
       "count  891.000000  891.000000  \n",
       "mean     0.381594   32.204208  \n",
       "std      0.806057   49.693429  \n",
       "min      0.000000    0.000000  \n",
       "25%      0.000000    7.910400  \n",
       "50%      0.000000   14.454200  \n",
       "75%      0.000000   31.000000  \n",
       "max      6.000000  512.329200  "
      ]
     },
     "execution_count": 4,
     "metadata": {},
     "output_type": "execute_result"
    }
   ],
   "source": [
    "train_data.describe()"
   ]
  },
  {
   "cell_type": "code",
   "execution_count": 5,
   "id": "af8b28d0",
   "metadata": {
    "execution": {
     "iopub.execute_input": "2023-10-19T01:38:21.918978Z",
     "iopub.status.busy": "2023-10-19T01:38:21.918399Z",
     "iopub.status.idle": "2023-10-19T01:38:21.924627Z",
     "shell.execute_reply": "2023-10-19T01:38:21.923913Z"
    },
    "papermill": {
     "duration": 0.013401,
     "end_time": "2023-10-19T01:38:21.926149",
     "exception": false,
     "start_time": "2023-10-19T01:38:21.912748",
     "status": "completed"
    },
    "tags": []
   },
   "outputs": [
    {
     "data": {
      "text/plain": [
       "PassengerId      0\n",
       "Survived         0\n",
       "Pclass           0\n",
       "Name             0\n",
       "Sex              0\n",
       "Age            177\n",
       "SibSp            0\n",
       "Parch            0\n",
       "Ticket           0\n",
       "Fare             0\n",
       "Cabin          687\n",
       "Embarked         2\n",
       "dtype: int64"
      ]
     },
     "execution_count": 5,
     "metadata": {},
     "output_type": "execute_result"
    }
   ],
   "source": [
    "train_data.isnull().sum()\n"
   ]
  },
  {
   "cell_type": "markdown",
   "id": "e2c99245",
   "metadata": {
    "papermill": {
     "duration": 0.004925,
     "end_time": "2023-10-19T01:38:21.936143",
     "exception": false,
     "start_time": "2023-10-19T01:38:21.931218",
     "status": "completed"
    },
    "tags": []
   },
   "source": [
    "# 2) Feature Selection\n",
    "Age, Fare, Sex (hot-encoded value), Engineered Title (hot-encoded value), Pclass, Sibsp, Parch "
   ]
  },
  {
   "cell_type": "code",
   "execution_count": 6,
   "id": "36c440b1",
   "metadata": {
    "execution": {
     "iopub.execute_input": "2023-10-19T01:38:21.947650Z",
     "iopub.status.busy": "2023-10-19T01:38:21.947364Z",
     "iopub.status.idle": "2023-10-19T01:38:21.965937Z",
     "shell.execute_reply": "2023-10-19T01:38:21.965060Z"
    },
    "papermill": {
     "duration": 0.026228,
     "end_time": "2023-10-19T01:38:21.967557",
     "exception": false,
     "start_time": "2023-10-19T01:38:21.941329",
     "status": "completed"
    },
    "tags": []
   },
   "outputs": [],
   "source": [
    "# import again to ensure stable testing\n",
    "train_data = pd.read_csv('/kaggle/input/titanic/train.csv')\n",
    "\n",
    "# drop irrelevant columns and fill NaN age with average\n",
    "def drop_irrev_col(df):\n",
    "    # change index\n",
    "    df.set_index('PassengerId',inplace=True)\n",
    "    # drop some irrelevant features\n",
    "    df.drop(['Ticket', 'Cabin','Embarked'], axis=1, inplace=True)\n",
    "    # fill NaN age with average\n",
    "    df['Age'].fillna(df['Age'].mean(), inplace=True)\n",
    "    return df\n",
    "\n",
    "def feature_engineering(df):\n",
    "    # RegEx to extract titles and print them\n",
    "    #df['Title'] = df['Name'].str.extract(r'(\\w+)(?=\\.)')\n",
    "    #if(df.Title.isnull().sum()!=0):\n",
    "    #    warnings.warn(\"NaN values are found in Titles. Fix before moving on.\")\n",
    "    #print(f\"Titles found are {df.Title.unique()}\")\n",
    "    df.drop('Name', axis=1, inplace=True)\n",
    "    # one-hot encode sex and titles\n",
    "    #df_new = pd.get_dummies(df, columns=['Sex','Title'],dtype=int)\n",
    "    df_new = pd.get_dummies(df, columns=['Sex'],dtype=int)\n",
    "    return df_new\n",
    "\n",
    "# separate the training set into features dataframe and target data series\n",
    "def features_and_target(df):\n",
    "    # everything but survived is a feature\n",
    "    features = [i for i in df.columns.tolist() if i!= 'Survived']\n",
    "    X = df[features]\n",
    "    # binary target\n",
    "    if 'Survived' in df.columns:\n",
    "        Y = df['Survived']\n",
    "    else:\n",
    "        Y = None\n",
    "    return X, Y, features\n",
    "\n",
    "# clean the data\n",
    "clean_train_data = drop_irrev_col(train_data)\n",
    "clean_train_data = feature_engineering(clean_train_data)\n",
    "# separate features and targets\n",
    "X_clean, y_clean, features = features_and_target(clean_train_data)"
   ]
  },
  {
   "cell_type": "code",
   "execution_count": 7,
   "id": "279a1ba2",
   "metadata": {
    "execution": {
     "iopub.execute_input": "2023-10-19T01:38:21.978698Z",
     "iopub.status.busy": "2023-10-19T01:38:21.978480Z",
     "iopub.status.idle": "2023-10-19T01:38:21.986933Z",
     "shell.execute_reply": "2023-10-19T01:38:21.986129Z"
    },
    "papermill": {
     "duration": 0.016154,
     "end_time": "2023-10-19T01:38:21.988832",
     "exception": false,
     "start_time": "2023-10-19T01:38:21.972678",
     "status": "completed"
    },
    "tags": []
   },
   "outputs": [
    {
     "name": "stdout",
     "output_type": "stream",
     "text": [
      "<class 'pandas.core.frame.DataFrame'>\n",
      "Index: 891 entries, 1 to 891\n",
      "Data columns (total 7 columns):\n",
      " #   Column      Non-Null Count  Dtype  \n",
      "---  ------      --------------  -----  \n",
      " 0   Pclass      891 non-null    int64  \n",
      " 1   Age         891 non-null    float64\n",
      " 2   SibSp       891 non-null    int64  \n",
      " 3   Parch       891 non-null    int64  \n",
      " 4   Fare        891 non-null    float64\n",
      " 5   Sex_female  891 non-null    int64  \n",
      " 6   Sex_male    891 non-null    int64  \n",
      "dtypes: float64(2), int64(5)\n",
      "memory usage: 55.7 KB\n"
     ]
    }
   ],
   "source": [
    "X_clean.info()"
   ]
  },
  {
   "cell_type": "code",
   "execution_count": 8,
   "id": "1e623cc6",
   "metadata": {
    "execution": {
     "iopub.execute_input": "2023-10-19T01:38:22.000612Z",
     "iopub.status.busy": "2023-10-19T01:38:22.000376Z",
     "iopub.status.idle": "2023-10-19T01:38:22.005487Z",
     "shell.execute_reply": "2023-10-19T01:38:22.004849Z"
    },
    "papermill": {
     "duration": 0.012473,
     "end_time": "2023-10-19T01:38:22.007073",
     "exception": false,
     "start_time": "2023-10-19T01:38:21.994600",
     "status": "completed"
    },
    "tags": []
   },
   "outputs": [
    {
     "data": {
      "text/plain": [
       "PassengerId\n",
       "1    0\n",
       "2    1\n",
       "3    1\n",
       "4    1\n",
       "5    0\n",
       "Name: Survived, dtype: int64"
      ]
     },
     "execution_count": 8,
     "metadata": {},
     "output_type": "execute_result"
    }
   ],
   "source": [
    "y_clean.head()"
   ]
  },
  {
   "cell_type": "code",
   "execution_count": 9,
   "id": "b75749b0",
   "metadata": {
    "execution": {
     "iopub.execute_input": "2023-10-19T01:38:22.018460Z",
     "iopub.status.busy": "2023-10-19T01:38:22.018232Z",
     "iopub.status.idle": "2023-10-19T01:38:22.023922Z",
     "shell.execute_reply": "2023-10-19T01:38:22.023173Z"
    },
    "papermill": {
     "duration": 0.013068,
     "end_time": "2023-10-19T01:38:22.025483",
     "exception": false,
     "start_time": "2023-10-19T01:38:22.012415",
     "status": "completed"
    },
    "tags": []
   },
   "outputs": [],
   "source": [
    "RAND_STAT = 10\n",
    "X_train, X_cv, y_train, y_cv = train_test_split(X_clean, y_clean, train_size = 0.8, random_state = RAND_STAT)\n"
   ]
  },
  {
   "cell_type": "code",
   "execution_count": 10,
   "id": "cf17af43",
   "metadata": {
    "execution": {
     "iopub.execute_input": "2023-10-19T01:38:22.037019Z",
     "iopub.status.busy": "2023-10-19T01:38:22.036817Z",
     "iopub.status.idle": "2023-10-19T01:38:22.040944Z",
     "shell.execute_reply": "2023-10-19T01:38:22.040067Z"
    },
    "papermill": {
     "duration": 0.011754,
     "end_time": "2023-10-19T01:38:22.042523",
     "exception": false,
     "start_time": "2023-10-19T01:38:22.030769",
     "status": "completed"
    },
    "tags": []
   },
   "outputs": [
    {
     "name": "stdout",
     "output_type": "stream",
     "text": [
      "train samples: 712\n",
      "test samples: 179\n"
     ]
    }
   ],
   "source": [
    "print(f'train samples: {len(X_train)}\\ntest samples: {len(X_cv)}')\n"
   ]
  },
  {
   "cell_type": "markdown",
   "id": "debc133d",
   "metadata": {
    "papermill": {
     "duration": 0.005073,
     "end_time": "2023-10-19T01:38:22.052979",
     "exception": false,
     "start_time": "2023-10-19T01:38:22.047906",
     "status": "completed"
    },
    "tags": []
   },
   "source": [
    "# 3) Choosing the Model\n",
    "- Let's test different depths and min_samples_split to see which ones have the best accuracy on the cross validation test and choose the optimal params for our model"
   ]
  },
  {
   "cell_type": "code",
   "execution_count": 11,
   "id": "816dc908",
   "metadata": {
    "execution": {
     "iopub.execute_input": "2023-10-19T01:38:22.065064Z",
     "iopub.status.busy": "2023-10-19T01:38:22.064388Z",
     "iopub.status.idle": "2023-10-19T01:38:22.068262Z",
     "shell.execute_reply": "2023-10-19T01:38:22.067712Z"
    },
    "papermill": {
     "duration": 0.011212,
     "end_time": "2023-10-19T01:38:22.069734",
     "exception": false,
     "start_time": "2023-10-19T01:38:22.058522",
     "status": "completed"
    },
    "tags": []
   },
   "outputs": [],
   "source": [
    "#\n",
    "min_samples_split_list = [2, 5, 10, 30, 40, 50, 60] ## If the number is an integer, then it is the actual quantity of samples,\n",
    "max_depth_list = [1, 2, 3, 4, 8, 10, 16, 32, 64, None] # None means that there is no depth limit."
   ]
  },
  {
   "cell_type": "code",
   "execution_count": 12,
   "id": "99ea2707",
   "metadata": {
    "execution": {
     "iopub.execute_input": "2023-10-19T01:38:22.081549Z",
     "iopub.status.busy": "2023-10-19T01:38:22.081118Z",
     "iopub.status.idle": "2023-10-19T01:38:22.348857Z",
     "shell.execute_reply": "2023-10-19T01:38:22.348024Z"
    },
    "papermill": {
     "duration": 0.275585,
     "end_time": "2023-10-19T01:38:22.350693",
     "exception": false,
     "start_time": "2023-10-19T01:38:22.075108",
     "status": "completed"
    },
    "tags": []
   },
   "outputs": [
    {
     "data": {
      "text/plain": [
       "<matplotlib.legend.Legend at 0x7936fb02e920>"
      ]
     },
     "execution_count": 12,
     "metadata": {},
     "output_type": "execute_result"
    },
    {
     "data": {
      "image/png": "[encoded data removed]",
      "text/plain": [
       "<Figure size 640x480 with 1 Axes>"
      ]
     },
     "metadata": {},
     "output_type": "display_data"
    }
   ],
   "source": [
    "accuracy_list_train = []\n",
    "accuracy_list_cv = []\n",
    "for min_samples_split in min_samples_split_list:\n",
    "    model = DecisionTreeClassifier(min_samples_split = min_samples_split,\n",
    "                                   random_state = RAND_STAT).fit(X_train,y_train) \n",
    "    predictions_train = model.predict(X_train) ## The predicted values for the train dataset\n",
    "    predictions_cv = model.predict(X_cv) ## The predicted values for the test dataset\n",
    "    accuracy_train = accuracy_score(predictions_train,y_train)\n",
    "    accuracy_cv = accuracy_score(predictions_cv,y_cv)\n",
    "    accuracy_list_train.append(accuracy_train)\n",
    "    accuracy_list_cv.append(accuracy_cv)\n",
    "\n",
    "plt.title('Train v.s. Cross Validation metrics')\n",
    "plt.xlabel('min_samples_split')\n",
    "plt.ylabel('accuracy')\n",
    "plt.xticks(ticks = range(len(min_samples_split_list )),labels=min_samples_split_list)\n",
    "plt.plot(accuracy_list_train)\n",
    "plt.plot(accuracy_list_cv)\n",
    "plt.legend(['Train','Cross Validation'])"
   ]
  },
  {
   "cell_type": "code",
   "execution_count": 13,
   "id": "819c915d",
   "metadata": {
    "execution": {
     "iopub.execute_input": "2023-10-19T01:38:22.364312Z",
     "iopub.status.busy": "2023-10-19T01:38:22.364060Z",
     "iopub.status.idle": "2023-10-19T01:38:22.367980Z",
     "shell.execute_reply": "2023-10-19T01:38:22.367082Z"
    },
    "papermill": {
     "duration": 0.012329,
     "end_time": "2023-10-19T01:38:22.369606",
     "exception": false,
     "start_time": "2023-10-19T01:38:22.357277",
     "status": "completed"
    },
    "tags": []
   },
   "outputs": [],
   "source": [
    "# min_samples_split is the sweet spot. min_samples_split > 30 gives a high bias \n",
    "# while <30 gives high variance\n",
    "best_min_samples_split = 30"
   ]
  },
  {
   "cell_type": "code",
   "execution_count": 14,
   "id": "9f3f6d27",
   "metadata": {
    "execution": {
     "iopub.execute_input": "2023-10-19T01:38:22.382849Z",
     "iopub.status.busy": "2023-10-19T01:38:22.382614Z",
     "iopub.status.idle": "2023-10-19T01:38:22.708035Z",
     "shell.execute_reply": "2023-10-19T01:38:22.707225Z"
    },
    "papermill": {
     "duration": 0.334154,
     "end_time": "2023-10-19T01:38:22.709816",
     "exception": false,
     "start_time": "2023-10-19T01:38:22.375662",
     "status": "completed"
    },
    "tags": []
   },
   "outputs": [
    {
     "data": {
      "text/plain": [
       "<matplotlib.legend.Legend at 0x7936fb01e410>"
      ]
     },
     "execution_count": 14,
     "metadata": {},
     "output_type": "execute_result"
    },
    {
     "data": {
      "image/png": "[encoded data removed]",
      "text/plain": [
       "<Figure size 640x480 with 1 Axes>"
      ]
     },
     "metadata": {},
     "output_type": "display_data"
    }
   ],
   "source": [
    "accuracy_list_train = []\n",
    "accuracy_list_cv = []\n",
    "for max_depth in max_depth_list:\n",
    "    # You can fit the model at the same time you define it, because the fit function returns the fitted estimator.\n",
    "    model = DecisionTreeClassifier(max_depth = max_depth,\n",
    "                                   random_state = RAND_STAT).fit(X_train,y_train) \n",
    "    predictions_train = model.predict(X_train) ## The predicted values for the train dataset\n",
    "    predictions_cv = model.predict(X_cv) ## The predicted values for the cv dataset\n",
    "    accuracy_train = accuracy_score(predictions_train,y_train)\n",
    "    accuracy_cv = accuracy_score(predictions_cv,y_cv)\n",
    "    accuracy_list_train.append(accuracy_train)\n",
    "    accuracy_list_cv.append(accuracy_cv)\n",
    "\n",
    "plt.title('Train x Cross Validation metrics')\n",
    "plt.xlabel('max_depth')\n",
    "plt.ylabel('accuracy')\n",
    "plt.xticks(ticks = range(len(max_depth_list )),labels=max_depth_list)\n",
    "plt.plot(accuracy_list_train)\n",
    "plt.plot(accuracy_list_cv)\n",
    "plt.legend(['Train','cv'])"
   ]
  },
  {
   "cell_type": "code",
   "execution_count": 15,
   "id": "2bd4994b",
   "metadata": {
    "execution": {
     "iopub.execute_input": "2023-10-19T01:38:22.724594Z",
     "iopub.status.busy": "2023-10-19T01:38:22.724306Z",
     "iopub.status.idle": "2023-10-19T01:38:22.727707Z",
     "shell.execute_reply": "2023-10-19T01:38:22.727102Z"
    },
    "papermill": {
     "duration": 0.01272,
     "end_time": "2023-10-19T01:38:22.729353",
     "exception": false,
     "start_time": "2023-10-19T01:38:22.716633",
     "status": "completed"
    },
    "tags": []
   },
   "outputs": [],
   "source": [
    "# maximum cv accuracy reached at max_depth = 8\n",
    "best_max_depth = 8"
   ]
  },
  {
   "cell_type": "markdown",
   "id": "c194393d",
   "metadata": {
    "papermill": {
     "duration": 0.006037,
     "end_time": "2023-10-19T01:38:22.741757",
     "exception": false,
     "start_time": "2023-10-19T01:38:22.735720",
     "status": "completed"
    },
    "tags": []
   },
   "source": [
    "# 4) Building the Model"
   ]
  },
  {
   "cell_type": "code",
   "execution_count": 16,
   "id": "2666155b",
   "metadata": {
    "execution": {
     "iopub.execute_input": "2023-10-19T01:38:22.755237Z",
     "iopub.status.busy": "2023-10-19T01:38:22.755029Z",
     "iopub.status.idle": "2023-10-19T01:38:22.761672Z",
     "shell.execute_reply": "2023-10-19T01:38:22.760834Z"
    },
    "papermill": {
     "duration": 0.015228,
     "end_time": "2023-10-19T01:38:22.763314",
     "exception": false,
     "start_time": "2023-10-19T01:38:22.748086",
     "status": "completed"
    },
    "tags": []
   },
   "outputs": [],
   "source": [
    "decision_tree_model = DecisionTreeClassifier(min_samples_split = best_min_samples_split,\n",
    "                                             max_depth = best_max_depth,\n",
    "                                             random_state = RAND_STAT).fit(X_cv,y_cv)"
   ]
  },
  {
   "cell_type": "code",
   "execution_count": 17,
   "id": "d907aacd",
   "metadata": {
    "execution": {
     "iopub.execute_input": "2023-10-19T01:38:22.777334Z",
     "iopub.status.busy": "2023-10-19T01:38:22.777106Z",
     "iopub.status.idle": "2023-10-19T01:38:22.785311Z",
     "shell.execute_reply": "2023-10-19T01:38:22.784529Z"
    },
    "papermill": {
     "duration": 0.016672,
     "end_time": "2023-10-19T01:38:22.786914",
     "exception": false,
     "start_time": "2023-10-19T01:38:22.770242",
     "status": "completed"
    },
    "tags": []
   },
   "outputs": [
    {
     "name": "stdout",
     "output_type": "stream",
     "text": [
      "Metrics train:\n",
      "\tAccuracy score: 0.7458\n",
      "Metrics cross-validation:\n",
      "\tAccuracy score: 0.88\n"
     ]
    }
   ],
   "source": [
    "# How does the model perform on training and cross-validation?\n",
    "print(f\"Metrics train:\\n\\tAccuracy score: {accuracy_score(decision_tree_model.predict(X_train),y_train):.4f}\\nMetrics cross-validation:\\n\\tAccuracy score: {accuracy_score(decision_tree_model.predict(X_cv),y_cv):.2f}\")"
   ]
  },
  {
   "cell_type": "markdown",
   "id": "cdd6c342",
   "metadata": {
    "papermill": {
     "duration": 0.006813,
     "end_time": "2023-10-19T01:38:22.800408",
     "exception": false,
     "start_time": "2023-10-19T01:38:22.793595",
     "status": "completed"
    },
    "tags": []
   },
   "source": [
    "# 5) Inference\n",
    "\n",
    "- Import the test dataset\n",
    "- Prepare it in the same way\n",
    "- Carry out inference"
   ]
  },
  {
   "cell_type": "code",
   "execution_count": 18,
   "id": "0cf074fe",
   "metadata": {
    "execution": {
     "iopub.execute_input": "2023-10-19T01:38:22.814207Z",
     "iopub.status.busy": "2023-10-19T01:38:22.813983Z",
     "iopub.status.idle": "2023-10-19T01:38:22.823241Z",
     "shell.execute_reply": "2023-10-19T01:38:22.822473Z"
    },
    "papermill": {
     "duration": 0.017638,
     "end_time": "2023-10-19T01:38:22.824806",
     "exception": false,
     "start_time": "2023-10-19T01:38:22.807168",
     "status": "completed"
    },
    "tags": []
   },
   "outputs": [],
   "source": [
    "test_data = pd.read_csv('/kaggle/input/titanic/test.csv')"
   ]
  },
  {
   "cell_type": "code",
   "execution_count": 19,
   "id": "55078a92",
   "metadata": {
    "execution": {
     "iopub.execute_input": "2023-10-19T01:38:22.837997Z",
     "iopub.status.busy": "2023-10-19T01:38:22.837789Z",
     "iopub.status.idle": "2023-10-19T01:38:22.847007Z",
     "shell.execute_reply": "2023-10-19T01:38:22.846161Z"
    },
    "papermill": {
     "duration": 0.017552,
     "end_time": "2023-10-19T01:38:22.848517",
     "exception": false,
     "start_time": "2023-10-19T01:38:22.830965",
     "status": "completed"
    },
    "tags": []
   },
   "outputs": [
    {
     "name": "stdout",
     "output_type": "stream",
     "text": [
      "<class 'pandas.core.frame.DataFrame'>\n",
      "RangeIndex: 418 entries, 0 to 417\n",
      "Data columns (total 11 columns):\n",
      " #   Column       Non-Null Count  Dtype  \n",
      "---  ------       --------------  -----  \n",
      " 0   PassengerId  418 non-null    int64  \n",
      " 1   Pclass       418 non-null    int64  \n",
      " 2   Name         418 non-null    object \n",
      " 3   Sex          418 non-null    object \n",
      " 4   Age          332 non-null    float64\n",
      " 5   SibSp        418 non-null    int64  \n",
      " 6   Parch        418 non-null    int64  \n",
      " 7   Ticket       418 non-null    object \n",
      " 8   Fare         417 non-null    float64\n",
      " 9   Cabin        91 non-null     object \n",
      " 10  Embarked     418 non-null    object \n",
      "dtypes: float64(2), int64(4), object(5)\n",
      "memory usage: 36.0+ KB\n"
     ]
    }
   ],
   "source": [
    "test_data.info()"
   ]
  },
  {
   "cell_type": "code",
   "execution_count": 20,
   "id": "bbde0a36",
   "metadata": {
    "execution": {
     "iopub.execute_input": "2023-10-19T01:38:22.862320Z",
     "iopub.status.busy": "2023-10-19T01:38:22.862088Z",
     "iopub.status.idle": "2023-10-19T01:38:22.884761Z",
     "shell.execute_reply": "2023-10-19T01:38:22.884038Z"
    },
    "papermill": {
     "duration": 0.031458,
     "end_time": "2023-10-19T01:38:22.886239",
     "exception": false,
     "start_time": "2023-10-19T01:38:22.854781",
     "status": "completed"
    },
    "tags": []
   },
   "outputs": [
    {
     "data": {
      "text/html": [
       "<div>\n",
       "<style scoped>\n",
       "    .dataframe tbody tr th:only-of-type {\n",
       "        vertical-align: middle;\n",
       "    }\n",
       "\n",
       "    .dataframe tbody tr th {\n",
       "        vertical-align: top;\n",
       "    }\n",
       "\n",
       "    .dataframe thead th {\n",
       "        text-align: right;\n",
       "    }\n",
       "</style>\n",
       "<table border=\"1\" class=\"dataframe\">\n",
       "  <thead>\n",
       "    <tr style=\"text-align: right;\">\n",
       "      <th></th>\n",
       "      <th>PassengerId</th>\n",
       "      <th>Pclass</th>\n",
       "      <th>Age</th>\n",
       "      <th>SibSp</th>\n",
       "      <th>Parch</th>\n",
       "      <th>Fare</th>\n",
       "    </tr>\n",
       "  </thead>\n",
       "  <tbody>\n",
       "    <tr>\n",
       "      <th>count</th>\n",
       "      <td>418.000000</td>\n",
       "      <td>418.000000</td>\n",
       "      <td>332.000000</td>\n",
       "      <td>418.000000</td>\n",
       "      <td>418.000000</td>\n",
       "      <td>417.000000</td>\n",
       "    </tr>\n",
       "    <tr>\n",
       "      <th>mean</th>\n",
       "      <td>1100.500000</td>\n",
       "      <td>2.265550</td>\n",
       "      <td>30.272590</td>\n",
       "      <td>0.447368</td>\n",
       "      <td>0.392344</td>\n",
       "      <td>35.627188</td>\n",
       "    </tr>\n",
       "    <tr>\n",
       "      <th>std</th>\n",
       "      <td>120.810458</td>\n",
       "      <td>0.841838</td>\n",
       "      <td>14.181209</td>\n",
       "      <td>0.896760</td>\n",
       "      <td>0.981429</td>\n",
       "      <td>55.907576</td>\n",
       "    </tr>\n",
       "    <tr>\n",
       "      <th>min</th>\n",
       "      <td>892.000000</td>\n",
       "      <td>1.000000</td>\n",
       "      <td>0.170000</td>\n",
       "      <td>0.000000</td>\n",
       "      <td>0.000000</td>\n",
       "      <td>0.000000</td>\n",
       "    </tr>\n",
       "    <tr>\n",
       "      <th>25%</th>\n",
       "      <td>996.250000</td>\n",
       "      <td>1.000000</td>\n",
       "      <td>21.000000</td>\n",
       "      <td>0.000000</td>\n",
       "      <td>0.000000</td>\n",
       "      <td>7.895800</td>\n",
       "    </tr>\n",
       "    <tr>\n",
       "      <th>50%</th>\n",
       "      <td>1100.500000</td>\n",
       "      <td>3.000000</td>\n",
       "      <td>27.000000</td>\n",
       "      <td>0.000000</td>\n",
       "      <td>0.000000</td>\n",
       "      <td>14.454200</td>\n",
       "    </tr>\n",
       "    <tr>\n",
       "      <th>75%</th>\n",
       "      <td>1204.750000</td>\n",
       "      <td>3.000000</td>\n",
       "      <td>39.000000</td>\n",
       "      <td>1.000000</td>\n",
       "      <td>0.000000</td>\n",
       "      <td>31.500000</td>\n",
       "    </tr>\n",
       "    <tr>\n",
       "      <th>max</th>\n",
       "      <td>1309.000000</td>\n",
       "      <td>3.000000</td>\n",
       "      <td>76.000000</td>\n",
       "      <td>8.000000</td>\n",
       "      <td>9.000000</td>\n",
       "      <td>512.329200</td>\n",
       "    </tr>\n",
       "  </tbody>\n",
       "</table>\n",
       "</div>"
      ],
      "text/plain": [
       "       PassengerId      Pclass         Age       SibSp       Parch        Fare\n",
       "count   418.000000  418.000000  332.000000  418.000000  418.000000  417.000000\n",
       "mean   1100.500000    2.265550   30.272590    0.447368    0.392344   35.627188\n",
       "std     120.810458    0.841838   14.181209    0.896760    0.981429   55.907576\n",
       "min     892.000000    1.000000    0.170000    0.000000    0.000000    0.000000\n",
       "25%     996.250000    1.000000   21.000000    0.000000    0.000000    7.895800\n",
       "50%    1100.500000    3.000000   27.000000    0.000000    0.000000   14.454200\n",
       "75%    1204.750000    3.000000   39.000000    1.000000    0.000000   31.500000\n",
       "max    1309.000000    3.000000   76.000000    8.000000    9.000000  512.329200"
      ]
     },
     "execution_count": 20,
     "metadata": {},
     "output_type": "execute_result"
    }
   ],
   "source": [
    "test_data.describe()"
   ]
  },
  {
   "cell_type": "code",
   "execution_count": 21,
   "id": "afa879f5",
   "metadata": {
    "execution": {
     "iopub.execute_input": "2023-10-19T01:38:22.901599Z",
     "iopub.status.busy": "2023-10-19T01:38:22.901345Z",
     "iopub.status.idle": "2023-10-19T01:38:22.908418Z",
     "shell.execute_reply": "2023-10-19T01:38:22.907708Z"
    },
    "papermill": {
     "duration": 0.016774,
     "end_time": "2023-10-19T01:38:22.910190",
     "exception": false,
     "start_time": "2023-10-19T01:38:22.893416",
     "status": "completed"
    },
    "tags": []
   },
   "outputs": [
    {
     "data": {
      "text/plain": [
       "PassengerId      0\n",
       "Pclass           0\n",
       "Name             0\n",
       "Sex              0\n",
       "Age             86\n",
       "SibSp            0\n",
       "Parch            0\n",
       "Ticket           0\n",
       "Fare             1\n",
       "Cabin          327\n",
       "Embarked         0\n",
       "dtype: int64"
      ]
     },
     "execution_count": 21,
     "metadata": {},
     "output_type": "execute_result"
    }
   ],
   "source": [
    "test_data.isnull().sum()"
   ]
  },
  {
   "cell_type": "code",
   "execution_count": 22,
   "id": "7c1ac051",
   "metadata": {
    "execution": {
     "iopub.execute_input": "2023-10-19T01:38:22.925684Z",
     "iopub.status.busy": "2023-10-19T01:38:22.925416Z",
     "iopub.status.idle": "2023-10-19T01:38:22.936054Z",
     "shell.execute_reply": "2023-10-19T01:38:22.935441Z"
    },
    "papermill": {
     "duration": 0.020019,
     "end_time": "2023-10-19T01:38:22.937559",
     "exception": false,
     "start_time": "2023-10-19T01:38:22.917540",
     "status": "completed"
    },
    "tags": []
   },
   "outputs": [],
   "source": [
    "# clean the data\n",
    "clean_test_data = drop_irrev_col(test_data)\n",
    "clean_test_data = feature_engineering(clean_test_data)\n",
    "# separate features and targets\n",
    "X_test, y_test, features = features_and_target(clean_test_data)\n",
    "X_test['Fare'].fillna(X_test['Fare'].median(), inplace=True)"
   ]
  },
  {
   "cell_type": "code",
   "execution_count": 23,
   "id": "83fe2217",
   "metadata": {
    "execution": {
     "iopub.execute_input": "2023-10-19T01:38:22.952415Z",
     "iopub.status.busy": "2023-10-19T01:38:22.952190Z",
     "iopub.status.idle": "2023-10-19T01:38:22.961176Z",
     "shell.execute_reply": "2023-10-19T01:38:22.960354Z"
    },
    "papermill": {
     "duration": 0.018263,
     "end_time": "2023-10-19T01:38:22.962839",
     "exception": false,
     "start_time": "2023-10-19T01:38:22.944576",
     "status": "completed"
    },
    "tags": []
   },
   "outputs": [
    {
     "name": "stdout",
     "output_type": "stream",
     "text": [
      "<class 'pandas.core.frame.DataFrame'>\n",
      "Index: 418 entries, 892 to 1309\n",
      "Data columns (total 7 columns):\n",
      " #   Column      Non-Null Count  Dtype  \n",
      "---  ------      --------------  -----  \n",
      " 0   Pclass      418 non-null    int64  \n",
      " 1   Age         418 non-null    float64\n",
      " 2   SibSp       418 non-null    int64  \n",
      " 3   Parch       418 non-null    int64  \n",
      " 4   Fare        418 non-null    float64\n",
      " 5   Sex_female  418 non-null    int64  \n",
      " 6   Sex_male    418 non-null    int64  \n",
      "dtypes: float64(2), int64(5)\n",
      "memory usage: 26.1 KB\n"
     ]
    }
   ],
   "source": [
    "X_test.info()"
   ]
  },
  {
   "cell_type": "code",
   "execution_count": 24,
   "id": "bde41c98",
   "metadata": {
    "execution": {
     "iopub.execute_input": "2023-10-19T01:38:22.976861Z",
     "iopub.status.busy": "2023-10-19T01:38:22.976628Z",
     "iopub.status.idle": "2023-10-19T01:38:22.982733Z",
     "shell.execute_reply": "2023-10-19T01:38:22.982013Z"
    },
    "papermill": {
     "duration": 0.014895,
     "end_time": "2023-10-19T01:38:22.984312",
     "exception": false,
     "start_time": "2023-10-19T01:38:22.969417",
     "status": "completed"
    },
    "tags": []
   },
   "outputs": [
    {
     "data": {
      "text/plain": [
       "Pclass        0\n",
       "Age           0\n",
       "SibSp         0\n",
       "Parch         0\n",
       "Fare          0\n",
       "Sex_female    0\n",
       "Sex_male      0\n",
       "dtype: int64"
      ]
     },
     "execution_count": 24,
     "metadata": {},
     "output_type": "execute_result"
    }
   ],
   "source": [
    "X_test.isnull().sum()"
   ]
  },
  {
   "cell_type": "code",
   "execution_count": 25,
   "id": "4e0180c9",
   "metadata": {
    "execution": {
     "iopub.execute_input": "2023-10-19T01:38:22.998711Z",
     "iopub.status.busy": "2023-10-19T01:38:22.998471Z",
     "iopub.status.idle": "2023-10-19T01:38:23.003228Z",
     "shell.execute_reply": "2023-10-19T01:38:23.002564Z"
    },
    "papermill": {
     "duration": 0.013739,
     "end_time": "2023-10-19T01:38:23.004936",
     "exception": false,
     "start_time": "2023-10-19T01:38:22.991197",
     "status": "completed"
    },
    "tags": []
   },
   "outputs": [],
   "source": [
    "predictions = decision_tree_model.predict(X_test)"
   ]
  },
  {
   "cell_type": "code",
   "execution_count": 26,
   "id": "43995977",
   "metadata": {
    "execution": {
     "iopub.execute_input": "2023-10-19T01:38:23.058221Z",
     "iopub.status.busy": "2023-10-19T01:38:23.057584Z",
     "iopub.status.idle": "2023-10-19T01:38:23.065331Z",
     "shell.execute_reply": "2023-10-19T01:38:23.064465Z"
    },
    "papermill": {
     "duration": 0.017221,
     "end_time": "2023-10-19T01:38:23.067059",
     "exception": false,
     "start_time": "2023-10-19T01:38:23.049838",
     "status": "completed"
    },
    "tags": []
   },
   "outputs": [
    {
     "data": {
      "text/html": [
       "<div>\n",
       "<style scoped>\n",
       "    .dataframe tbody tr th:only-of-type {\n",
       "        vertical-align: middle;\n",
       "    }\n",
       "\n",
       "    .dataframe tbody tr th {\n",
       "        vertical-align: top;\n",
       "    }\n",
       "\n",
       "    .dataframe thead th {\n",
       "        text-align: right;\n",
       "    }\n",
       "</style>\n",
       "<table border=\"1\" class=\"dataframe\">\n",
       "  <thead>\n",
       "    <tr style=\"text-align: right;\">\n",
       "      <th></th>\n",
       "      <th>PassengerId</th>\n",
       "      <th>Survived</th>\n",
       "    </tr>\n",
       "  </thead>\n",
       "  <tbody>\n",
       "    <tr>\n",
       "      <th>0</th>\n",
       "      <td>892</td>\n",
       "      <td>0</td>\n",
       "    </tr>\n",
       "    <tr>\n",
       "      <th>1</th>\n",
       "      <td>893</td>\n",
       "      <td>0</td>\n",
       "    </tr>\n",
       "    <tr>\n",
       "      <th>2</th>\n",
       "      <td>894</td>\n",
       "      <td>0</td>\n",
       "    </tr>\n",
       "    <tr>\n",
       "      <th>3</th>\n",
       "      <td>895</td>\n",
       "      <td>0</td>\n",
       "    </tr>\n",
       "    <tr>\n",
       "      <th>4</th>\n",
       "      <td>896</td>\n",
       "      <td>0</td>\n",
       "    </tr>\n",
       "  </tbody>\n",
       "</table>\n",
       "</div>"
      ],
      "text/plain": [
       "   PassengerId  Survived\n",
       "0          892         0\n",
       "1          893         0\n",
       "2          894         0\n",
       "3          895         0\n",
       "4          896         0"
      ]
     },
     "execution_count": 26,
     "metadata": {},
     "output_type": "execute_result"
    }
   ],
   "source": [
    "output = pd.DataFrame({'PassengerId': test_data.index, 'Survived': predictions})\n",
    "output.head()\n"
   ]
  },
  {
   "cell_type": "code",
   "execution_count": 27,
   "id": "f61cb78e",
   "metadata": {
    "execution": {
     "iopub.execute_input": "2023-10-19T01:38:23.083458Z",
     "iopub.status.busy": "2023-10-19T01:38:23.082934Z",
     "iopub.status.idle": "2023-10-19T01:38:23.089703Z",
     "shell.execute_reply": "2023-10-19T01:38:23.088875Z"
    },
    "papermill": {
     "duration": 0.016455,
     "end_time": "2023-10-19T01:38:23.091357",
     "exception": false,
     "start_time": "2023-10-19T01:38:23.074902",
     "status": "completed"
    },
    "tags": []
   },
   "outputs": [
    {
     "name": "stdout",
     "output_type": "stream",
     "text": [
      "Your submission was successfully saved!\n"
     ]
    }
   ],
   "source": [
    "output.to_csv('submission.csv', index=False)\n",
    "print(\"Your submission was successfully saved!\")"
   ]
  }
 ],
 "metadata": {
  "kernelspec": {
   "display_name": "Python 3",
   "language": "python",
   "name": "python3"
  },
  "language_info": {
   "codemirror_mode": {
    "name": "ipython",
    "version": 3
   },
   "file_extension": ".py",
   "mimetype": "text/x-python",
   "name": "python",
   "nbconvert_exporter": "python",
   "pygments_lexer": "ipython3",
   "version": "3.10.12"
  },
  "papermill": {
   "default_parameters": {},
   "duration": 7.071102,
   "end_time": "2023-10-19T01:38:23.515563",
   "environment_variables": {},
   "exception": null,
   "input_path": "__notebook__.ipynb",
   "output_path": "__notebook__.ipynb",
   "parameters": {},
   "start_time": "2023-10-19T01:38:16.444461",
   "version": "2.4.0"
  }
 },
 "nbformat": 4,
 "nbformat_minor": 5
}
