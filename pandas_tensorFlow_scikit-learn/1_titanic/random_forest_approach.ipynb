{
 "cells": [
  {
   "cell_type": "code",
   "execution_count": 4,
   "id": "890a1721",
   "metadata": {
    "_cell_guid": "b1076dfc-b9ad-4769-8c92-a6c4dae69d19",
    "_uuid": "8f2839f25d086af736a60e9eeb907d3b93b6e0e5",
    "execution": {
     "iopub.execute_input": "2023-10-19T05:38:25.614306Z",
     "iopub.status.busy": "2023-10-19T05:38:25.613609Z",
     "iopub.status.idle": "2023-10-19T05:38:28.261301Z",
     "shell.execute_reply": "2023-10-19T05:38:28.260250Z"
    },
    "papermill": {
     "duration": 2.661377,
     "end_time": "2023-10-19T05:38:28.263298",
     "exception": false,
     "start_time": "2023-10-19T05:38:25.601921",
     "status": "completed"
    },
    "tags": []
   },
   "outputs": [
    {
     "name": "stdout",
     "output_type": "stream",
     "text": [
      "./test.csv\n",
      "./random_forest_approach.ipynb\n",
      "./train.csv\n",
      "./gender_submission.csv\n",
      "./Neural_netwok_approach.ipynb\n"
     ]
    }
   ],
   "source": [
    "%matplotlib inline\n",
    "import re\n",
    "import warnings\n",
    "import numpy as np\n",
    "import pandas as pd\n",
    "import matplotlib\n",
    "import matplotlib.pyplot as plt\n",
    "import seaborn as sns\n",
    "from sklearn.tree import DecisionTreeClassifier\n",
    "from sklearn.ensemble import RandomForestClassifier\n",
    "from sklearn.model_selection import train_test_split\n",
    "from sklearn.metrics import accuracy_score\n",
    "from xgboost import XGBClassifier\n",
    "\n",
    "\n",
    "import os\n",
    "for dirname, _, filenames in os.walk('./'):\n",
    "    for filename in filenames:\n",
    "        print(os.path.join(dirname, filename))\n"
   ]
  },
  {
   "cell_type": "markdown",
   "id": "ac131a0f",
   "metadata": {
    "papermill": {
     "duration": 0.011034,
     "end_time": "2023-10-19T05:38:28.285883",
     "exception": false,
     "start_time": "2023-10-19T05:38:28.274849",
     "status": "completed"
    },
    "tags": []
   },
   "source": [
    "# 1) Understanding the Data"
   ]
  },
  {
   "cell_type": "code",
   "execution_count": 5,
   "id": "c033a5c8",
   "metadata": {
    "execution": {
     "iopub.execute_input": "2023-10-19T05:38:28.308747Z",
     "iopub.status.busy": "2023-10-19T05:38:28.308339Z",
     "iopub.status.idle": "2023-10-19T05:38:28.354047Z",
     "shell.execute_reply": "2023-10-19T05:38:28.353268Z"
    },
    "papermill": {
     "duration": 0.058714,
     "end_time": "2023-10-19T05:38:28.355862",
     "exception": false,
     "start_time": "2023-10-19T05:38:28.297148",
     "status": "completed"
    },
    "tags": []
   },
   "outputs": [
    {
     "name": "stdout",
     "output_type": "stream",
     "text": [
      "The dimensions of the training set are (891, 12)\n",
      "The dimensions of the test set are (418, 11)\n"
     ]
    },
    {
     "data": {
      "text/html": [
       "<div>\n",
       "<style scoped>\n",
       "    .dataframe tbody tr th:only-of-type {\n",
       "        vertical-align: middle;\n",
       "    }\n",
       "\n",
       "    .dataframe tbody tr th {\n",
       "        vertical-align: top;\n",
       "    }\n",
       "\n",
       "    .dataframe thead th {\n",
       "        text-align: right;\n",
       "    }\n",
       "</style>\n",
       "<table border=\"1\" class=\"dataframe\">\n",
       "  <thead>\n",
       "    <tr style=\"text-align: right;\">\n",
       "      <th></th>\n",
       "      <th>PassengerId</th>\n",
       "      <th>Survived</th>\n",
       "      <th>Pclass</th>\n",
       "      <th>Name</th>\n",
       "      <th>Sex</th>\n",
       "      <th>Age</th>\n",
       "      <th>SibSp</th>\n",
       "      <th>Parch</th>\n",
       "      <th>Ticket</th>\n",
       "      <th>Fare</th>\n",
       "      <th>Cabin</th>\n",
       "      <th>Embarked</th>\n",
       "    </tr>\n",
       "  </thead>\n",
       "  <tbody>\n",
       "    <tr>\n",
       "      <th>0</th>\n",
       "      <td>1</td>\n",
       "      <td>0</td>\n",
       "      <td>3</td>\n",
       "      <td>Braund, Mr. Owen Harris</td>\n",
       "      <td>male</td>\n",
       "      <td>22.0</td>\n",
       "      <td>1</td>\n",
       "      <td>0</td>\n",
       "      <td>A/5 21171</td>\n",
       "      <td>7.2500</td>\n",
       "      <td>NaN</td>\n",
       "      <td>S</td>\n",
       "    </tr>\n",
       "    <tr>\n",
       "      <th>1</th>\n",
       "      <td>2</td>\n",
       "      <td>1</td>\n",
       "      <td>1</td>\n",
       "      <td>Cumings, Mrs. John Bradley (Florence Briggs Th...</td>\n",
       "      <td>female</td>\n",
       "      <td>38.0</td>\n",
       "      <td>1</td>\n",
       "      <td>0</td>\n",
       "      <td>PC 17599</td>\n",
       "      <td>71.2833</td>\n",
       "      <td>C85</td>\n",
       "      <td>C</td>\n",
       "    </tr>\n",
       "    <tr>\n",
       "      <th>2</th>\n",
       "      <td>3</td>\n",
       "      <td>1</td>\n",
       "      <td>3</td>\n",
       "      <td>Heikkinen, Miss. Laina</td>\n",
       "      <td>female</td>\n",
       "      <td>26.0</td>\n",
       "      <td>0</td>\n",
       "      <td>0</td>\n",
       "      <td>STON/O2. 3101282</td>\n",
       "      <td>7.9250</td>\n",
       "      <td>NaN</td>\n",
       "      <td>S</td>\n",
       "    </tr>\n",
       "    <tr>\n",
       "      <th>3</th>\n",
       "      <td>4</td>\n",
       "      <td>1</td>\n",
       "      <td>1</td>\n",
       "      <td>Futrelle, Mrs. Jacques Heath (Lily May Peel)</td>\n",
       "      <td>female</td>\n",
       "      <td>35.0</td>\n",
       "      <td>1</td>\n",
       "      <td>0</td>\n",
       "      <td>113803</td>\n",
       "      <td>53.1000</td>\n",
       "      <td>C123</td>\n",
       "      <td>S</td>\n",
       "    </tr>\n",
       "    <tr>\n",
       "      <th>4</th>\n",
       "      <td>5</td>\n",
       "      <td>0</td>\n",
       "      <td>3</td>\n",
       "      <td>Allen, Mr. William Henry</td>\n",
       "      <td>male</td>\n",
       "      <td>35.0</td>\n",
       "      <td>0</td>\n",
       "      <td>0</td>\n",
       "      <td>373450</td>\n",
       "      <td>8.0500</td>\n",
       "      <td>NaN</td>\n",
       "      <td>S</td>\n",
       "    </tr>\n",
       "  </tbody>\n",
       "</table>\n",
       "</div>"
      ],
      "text/plain": [
       "   PassengerId  Survived  Pclass  \\\n",
       "0            1         0       3   \n",
       "1            2         1       1   \n",
       "2            3         1       3   \n",
       "3            4         1       1   \n",
       "4            5         0       3   \n",
       "\n",
       "                                                Name     Sex   Age  SibSp  \\\n",
       "0                            Braund, Mr. Owen Harris    male  22.0      1   \n",
       "1  Cumings, Mrs. John Bradley (Florence Briggs Th...  female  38.0      1   \n",
       "2                             Heikkinen, Miss. Laina  female  26.0      0   \n",
       "3       Futrelle, Mrs. Jacques Heath (Lily May Peel)  female  35.0      1   \n",
       "4                           Allen, Mr. William Henry    male  35.0      0   \n",
       "\n",
       "   Parch            Ticket     Fare Cabin Embarked  \n",
       "0      0         A/5 21171   7.2500   NaN        S  \n",
       "1      0          PC 17599  71.2833   C85        C  \n",
       "2      0  STON/O2. 3101282   7.9250   NaN        S  \n",
       "3      0            113803  53.1000  C123        S  \n",
       "4      0            373450   8.0500   NaN        S  "
      ]
     },
     "execution_count": 5,
     "metadata": {},
     "output_type": "execute_result"
    }
   ],
   "source": [
    "train_data = pd.read_csv('./train.csv')\n",
    "test_data = pd.read_csv('./test.csv')\n",
    "print(f\"The dimensions of the training set are {train_data.shape}\")\n",
    "print(f\"The dimensions of the test set are {test_data.shape}\")\n",
    "train_data.head()"
   ]
  },
  {
   "cell_type": "code",
   "execution_count": 6,
   "id": "a7dfbfea",
   "metadata": {
    "execution": {
     "iopub.execute_input": "2023-10-19T05:38:28.378194Z",
     "iopub.status.busy": "2023-10-19T05:38:28.377965Z",
     "iopub.status.idle": "2023-10-19T05:38:28.389586Z",
     "shell.execute_reply": "2023-10-19T05:38:28.388761Z"
    },
    "papermill": {
     "duration": 0.024356,
     "end_time": "2023-10-19T05:38:28.391344",
     "exception": false,
     "start_time": "2023-10-19T05:38:28.366988",
     "status": "completed"
    },
    "tags": []
   },
   "outputs": [
    {
     "data": {
      "text/html": [
       "<div>\n",
       "<style scoped>\n",
       "    .dataframe tbody tr th:only-of-type {\n",
       "        vertical-align: middle;\n",
       "    }\n",
       "\n",
       "    .dataframe tbody tr th {\n",
       "        vertical-align: top;\n",
       "    }\n",
       "\n",
       "    .dataframe thead th {\n",
       "        text-align: right;\n",
       "    }\n",
       "</style>\n",
       "<table border=\"1\" class=\"dataframe\">\n",
       "  <thead>\n",
       "    <tr style=\"text-align: right;\">\n",
       "      <th></th>\n",
       "      <th>PassengerId</th>\n",
       "      <th>Pclass</th>\n",
       "      <th>Name</th>\n",
       "      <th>Sex</th>\n",
       "      <th>Age</th>\n",
       "      <th>SibSp</th>\n",
       "      <th>Parch</th>\n",
       "      <th>Ticket</th>\n",
       "      <th>Fare</th>\n",
       "      <th>Cabin</th>\n",
       "      <th>Embarked</th>\n",
       "    </tr>\n",
       "  </thead>\n",
       "  <tbody>\n",
       "    <tr>\n",
       "      <th>0</th>\n",
       "      <td>892</td>\n",
       "      <td>3</td>\n",
       "      <td>Kelly, Mr. James</td>\n",
       "      <td>male</td>\n",
       "      <td>34.5</td>\n",
       "      <td>0</td>\n",
       "      <td>0</td>\n",
       "      <td>330911</td>\n",
       "      <td>7.8292</td>\n",
       "      <td>NaN</td>\n",
       "      <td>Q</td>\n",
       "    </tr>\n",
       "    <tr>\n",
       "      <th>1</th>\n",
       "      <td>893</td>\n",
       "      <td>3</td>\n",
       "      <td>Wilkes, Mrs. James (Ellen Needs)</td>\n",
       "      <td>female</td>\n",
       "      <td>47.0</td>\n",
       "      <td>1</td>\n",
       "      <td>0</td>\n",
       "      <td>363272</td>\n",
       "      <td>7.0000</td>\n",
       "      <td>NaN</td>\n",
       "      <td>S</td>\n",
       "    </tr>\n",
       "    <tr>\n",
       "      <th>2</th>\n",
       "      <td>894</td>\n",
       "      <td>2</td>\n",
       "      <td>Myles, Mr. Thomas Francis</td>\n",
       "      <td>male</td>\n",
       "      <td>62.0</td>\n",
       "      <td>0</td>\n",
       "      <td>0</td>\n",
       "      <td>240276</td>\n",
       "      <td>9.6875</td>\n",
       "      <td>NaN</td>\n",
       "      <td>Q</td>\n",
       "    </tr>\n",
       "    <tr>\n",
       "      <th>3</th>\n",
       "      <td>895</td>\n",
       "      <td>3</td>\n",
       "      <td>Wirz, Mr. Albert</td>\n",
       "      <td>male</td>\n",
       "      <td>27.0</td>\n",
       "      <td>0</td>\n",
       "      <td>0</td>\n",
       "      <td>315154</td>\n",
       "      <td>8.6625</td>\n",
       "      <td>NaN</td>\n",
       "      <td>S</td>\n",
       "    </tr>\n",
       "    <tr>\n",
       "      <th>4</th>\n",
       "      <td>896</td>\n",
       "      <td>3</td>\n",
       "      <td>Hirvonen, Mrs. Alexander (Helga E Lindqvist)</td>\n",
       "      <td>female</td>\n",
       "      <td>22.0</td>\n",
       "      <td>1</td>\n",
       "      <td>1</td>\n",
       "      <td>3101298</td>\n",
       "      <td>12.2875</td>\n",
       "      <td>NaN</td>\n",
       "      <td>S</td>\n",
       "    </tr>\n",
       "  </tbody>\n",
       "</table>\n",
       "</div>"
      ],
      "text/plain": [
       "   PassengerId  Pclass                                          Name     Sex  \\\n",
       "0          892       3                              Kelly, Mr. James    male   \n",
       "1          893       3              Wilkes, Mrs. James (Ellen Needs)  female   \n",
       "2          894       2                     Myles, Mr. Thomas Francis    male   \n",
       "3          895       3                              Wirz, Mr. Albert    male   \n",
       "4          896       3  Hirvonen, Mrs. Alexander (Helga E Lindqvist)  female   \n",
       "\n",
       "    Age  SibSp  Parch   Ticket     Fare Cabin Embarked  \n",
       "0  34.5      0      0   330911   7.8292   NaN        Q  \n",
       "1  47.0      1      0   363272   7.0000   NaN        S  \n",
       "2  62.0      0      0   240276   9.6875   NaN        Q  \n",
       "3  27.0      0      0   315154   8.6625   NaN        S  \n",
       "4  22.0      1      1  3101298  12.2875   NaN        S  "
      ]
     },
     "execution_count": 6,
     "metadata": {},
     "output_type": "execute_result"
    }
   ],
   "source": [
    "test_data.head()"
   ]
  },
  {
   "cell_type": "code",
   "execution_count": 7,
   "id": "bc8a0ce8",
   "metadata": {
    "execution": {
     "iopub.execute_input": "2023-10-19T05:38:28.413570Z",
     "iopub.status.busy": "2023-10-19T05:38:28.413329Z",
     "iopub.status.idle": "2023-10-19T05:38:28.437314Z",
     "shell.execute_reply": "2023-10-19T05:38:28.436267Z"
    },
    "papermill": {
     "duration": 0.036549,
     "end_time": "2023-10-19T05:38:28.439073",
     "exception": false,
     "start_time": "2023-10-19T05:38:28.402524",
     "status": "completed"
    },
    "tags": []
   },
   "outputs": [
    {
     "name": "stdout",
     "output_type": "stream",
     "text": [
      "<class 'pandas.core.frame.DataFrame'>\n",
      "RangeIndex: 891 entries, 0 to 890\n",
      "Data columns (total 12 columns):\n",
      " #   Column       Non-Null Count  Dtype  \n",
      "---  ------       --------------  -----  \n",
      " 0   PassengerId  891 non-null    int64  \n",
      " 1   Survived     891 non-null    int64  \n",
      " 2   Pclass       891 non-null    int64  \n",
      " 3   Name         891 non-null    object \n",
      " 4   Sex          891 non-null    object \n",
      " 5   Age          714 non-null    float64\n",
      " 6   SibSp        891 non-null    int64  \n",
      " 7   Parch        891 non-null    int64  \n",
      " 8   Ticket       891 non-null    object \n",
      " 9   Fare         891 non-null    float64\n",
      " 10  Cabin        204 non-null    object \n",
      " 11  Embarked     889 non-null    object \n",
      "dtypes: float64(2), int64(5), object(5)\n",
      "memory usage: 83.7+ KB\n"
     ]
    }
   ],
   "source": [
    "train_data.info()"
   ]
  },
  {
   "cell_type": "code",
   "execution_count": 8,
   "id": "78af37b0",
   "metadata": {
    "execution": {
     "iopub.execute_input": "2023-10-19T05:38:28.460645Z",
     "iopub.status.busy": "2023-10-19T05:38:28.460425Z",
     "iopub.status.idle": "2023-10-19T05:38:28.469640Z",
     "shell.execute_reply": "2023-10-19T05:38:28.468829Z"
    },
    "papermill": {
     "duration": 0.021716,
     "end_time": "2023-10-19T05:38:28.471148",
     "exception": false,
     "start_time": "2023-10-19T05:38:28.449432",
     "status": "completed"
    },
    "tags": []
   },
   "outputs": [
    {
     "name": "stdout",
     "output_type": "stream",
     "text": [
      "<class 'pandas.core.frame.DataFrame'>\n",
      "RangeIndex: 418 entries, 0 to 417\n",
      "Data columns (total 11 columns):\n",
      " #   Column       Non-Null Count  Dtype  \n",
      "---  ------       --------------  -----  \n",
      " 0   PassengerId  418 non-null    int64  \n",
      " 1   Pclass       418 non-null    int64  \n",
      " 2   Name         418 non-null    object \n",
      " 3   Sex          418 non-null    object \n",
      " 4   Age          332 non-null    float64\n",
      " 5   SibSp        418 non-null    int64  \n",
      " 6   Parch        418 non-null    int64  \n",
      " 7   Ticket       418 non-null    object \n",
      " 8   Fare         417 non-null    float64\n",
      " 9   Cabin        91 non-null     object \n",
      " 10  Embarked     418 non-null    object \n",
      "dtypes: float64(2), int64(4), object(5)\n",
      "memory usage: 36.0+ KB\n"
     ]
    }
   ],
   "source": [
    "test_data.info()"
   ]
  },
  {
   "cell_type": "code",
   "execution_count": 9,
   "id": "fd103851",
   "metadata": {
    "execution": {
     "iopub.execute_input": "2023-10-19T05:38:28.493626Z",
     "iopub.status.busy": "2023-10-19T05:38:28.493095Z",
     "iopub.status.idle": "2023-10-19T05:38:28.502430Z",
     "shell.execute_reply": "2023-10-19T05:38:28.501542Z"
    },
    "papermill": {
     "duration": 0.022552,
     "end_time": "2023-10-19T05:38:28.504288",
     "exception": false,
     "start_time": "2023-10-19T05:38:28.481736",
     "status": "completed"
    },
    "tags": []
   },
   "outputs": [],
   "source": [
    "train_data['Age'].fillna(train_data['Age'].median(), inplace=True)\n",
    "test_data['Age'].fillna(test_data['Age'].median(), inplace=True)"
   ]
  },
  {
   "cell_type": "code",
   "execution_count": 10,
   "id": "4f5800ed",
   "metadata": {
    "execution": {
     "iopub.execute_input": "2023-10-19T05:38:28.526897Z",
     "iopub.status.busy": "2023-10-19T05:38:28.526649Z",
     "iopub.status.idle": "2023-10-19T05:38:28.552051Z",
     "shell.execute_reply": "2023-10-19T05:38:28.551140Z"
    },
    "papermill": {
     "duration": 0.039042,
     "end_time": "2023-10-19T05:38:28.554104",
     "exception": false,
     "start_time": "2023-10-19T05:38:28.515062",
     "status": "completed"
    },
    "tags": []
   },
   "outputs": [
    {
     "data": {
      "text/html": [
       "<div>\n",
       "<style scoped>\n",
       "    .dataframe tbody tr th:only-of-type {\n",
       "        vertical-align: middle;\n",
       "    }\n",
       "\n",
       "    .dataframe tbody tr th {\n",
       "        vertical-align: top;\n",
       "    }\n",
       "\n",
       "    .dataframe thead th {\n",
       "        text-align: right;\n",
       "    }\n",
       "</style>\n",
       "<table border=\"1\" class=\"dataframe\">\n",
       "  <thead>\n",
       "    <tr style=\"text-align: right;\">\n",
       "      <th></th>\n",
       "      <th>PassengerId</th>\n",
       "      <th>Survived</th>\n",
       "      <th>Pclass</th>\n",
       "      <th>Age</th>\n",
       "      <th>SibSp</th>\n",
       "      <th>Parch</th>\n",
       "      <th>Fare</th>\n",
       "    </tr>\n",
       "  </thead>\n",
       "  <tbody>\n",
       "    <tr>\n",
       "      <th>count</th>\n",
       "      <td>891.000000</td>\n",
       "      <td>891.000000</td>\n",
       "      <td>891.000000</td>\n",
       "      <td>891.000000</td>\n",
       "      <td>891.000000</td>\n",
       "      <td>891.000000</td>\n",
       "      <td>891.000000</td>\n",
       "    </tr>\n",
       "    <tr>\n",
       "      <th>mean</th>\n",
       "      <td>446.000000</td>\n",
       "      <td>0.383838</td>\n",
       "      <td>2.308642</td>\n",
       "      <td>29.361582</td>\n",
       "      <td>0.523008</td>\n",
       "      <td>0.381594</td>\n",
       "      <td>32.204208</td>\n",
       "    </tr>\n",
       "    <tr>\n",
       "      <th>std</th>\n",
       "      <td>257.353842</td>\n",
       "      <td>0.486592</td>\n",
       "      <td>0.836071</td>\n",
       "      <td>13.019697</td>\n",
       "      <td>1.102743</td>\n",
       "      <td>0.806057</td>\n",
       "      <td>49.693429</td>\n",
       "    </tr>\n",
       "    <tr>\n",
       "      <th>min</th>\n",
       "      <td>1.000000</td>\n",
       "      <td>0.000000</td>\n",
       "      <td>1.000000</td>\n",
       "      <td>0.420000</td>\n",
       "      <td>0.000000</td>\n",
       "      <td>0.000000</td>\n",
       "      <td>0.000000</td>\n",
       "    </tr>\n",
       "    <tr>\n",
       "      <th>25%</th>\n",
       "      <td>223.500000</td>\n",
       "      <td>0.000000</td>\n",
       "      <td>2.000000</td>\n",
       "      <td>22.000000</td>\n",
       "      <td>0.000000</td>\n",
       "      <td>0.000000</td>\n",
       "      <td>7.910400</td>\n",
       "    </tr>\n",
       "    <tr>\n",
       "      <th>50%</th>\n",
       "      <td>446.000000</td>\n",
       "      <td>0.000000</td>\n",
       "      <td>3.000000</td>\n",
       "      <td>28.000000</td>\n",
       "      <td>0.000000</td>\n",
       "      <td>0.000000</td>\n",
       "      <td>14.454200</td>\n",
       "    </tr>\n",
       "    <tr>\n",
       "      <th>75%</th>\n",
       "      <td>668.500000</td>\n",
       "      <td>1.000000</td>\n",
       "      <td>3.000000</td>\n",
       "      <td>35.000000</td>\n",
       "      <td>1.000000</td>\n",
       "      <td>0.000000</td>\n",
       "      <td>31.000000</td>\n",
       "    </tr>\n",
       "    <tr>\n",
       "      <th>max</th>\n",
       "      <td>891.000000</td>\n",
       "      <td>1.000000</td>\n",
       "      <td>3.000000</td>\n",
       "      <td>80.000000</td>\n",
       "      <td>8.000000</td>\n",
       "      <td>6.000000</td>\n",
       "      <td>512.329200</td>\n",
       "    </tr>\n",
       "  </tbody>\n",
       "</table>\n",
       "</div>"
      ],
      "text/plain": [
       "       PassengerId    Survived      Pclass         Age       SibSp  \\\n",
       "count   891.000000  891.000000  891.000000  891.000000  891.000000   \n",
       "mean    446.000000    0.383838    2.308642   29.361582    0.523008   \n",
       "std     257.353842    0.486592    0.836071   13.019697    1.102743   \n",
       "min       1.000000    0.000000    1.000000    0.420000    0.000000   \n",
       "25%     223.500000    0.000000    2.000000   22.000000    0.000000   \n",
       "50%     446.000000    0.000000    3.000000   28.000000    0.000000   \n",
       "75%     668.500000    1.000000    3.000000   35.000000    1.000000   \n",
       "max     891.000000    1.000000    3.000000   80.000000    8.000000   \n",
       "\n",
       "            Parch        Fare  \n",
       "count  891.000000  891.000000  \n",
       "mean     0.381594   32.204208  \n",
       "std      0.806057   49.693429  \n",
       "min      0.000000    0.000000  \n",
       "25%      0.000000    7.910400  \n",
       "50%      0.000000   14.454200  \n",
       "75%      0.000000   31.000000  \n",
       "max      6.000000  512.329200  "
      ]
     },
     "execution_count": 10,
     "metadata": {},
     "output_type": "execute_result"
    }
   ],
   "source": [
    "train_data.describe()"
   ]
  },
  {
   "cell_type": "code",
   "execution_count": 11,
   "id": "c35a0fae",
   "metadata": {
    "execution": {
     "iopub.execute_input": "2023-10-19T05:38:28.579582Z",
     "iopub.status.busy": "2023-10-19T05:38:28.579348Z",
     "iopub.status.idle": "2023-10-19T05:38:28.602026Z",
     "shell.execute_reply": "2023-10-19T05:38:28.601177Z"
    },
    "papermill": {
     "duration": 0.037428,
     "end_time": "2023-10-19T05:38:28.603898",
     "exception": false,
     "start_time": "2023-10-19T05:38:28.566470",
     "status": "completed"
    },
    "tags": []
   },
   "outputs": [
    {
     "data": {
      "text/html": [
       "<div>\n",
       "<style scoped>\n",
       "    .dataframe tbody tr th:only-of-type {\n",
       "        vertical-align: middle;\n",
       "    }\n",
       "\n",
       "    .dataframe tbody tr th {\n",
       "        vertical-align: top;\n",
       "    }\n",
       "\n",
       "    .dataframe thead th {\n",
       "        text-align: right;\n",
       "    }\n",
       "</style>\n",
       "<table border=\"1\" class=\"dataframe\">\n",
       "  <thead>\n",
       "    <tr style=\"text-align: right;\">\n",
       "      <th></th>\n",
       "      <th>PassengerId</th>\n",
       "      <th>Pclass</th>\n",
       "      <th>Age</th>\n",
       "      <th>SibSp</th>\n",
       "      <th>Parch</th>\n",
       "      <th>Fare</th>\n",
       "    </tr>\n",
       "  </thead>\n",
       "  <tbody>\n",
       "    <tr>\n",
       "      <th>count</th>\n",
       "      <td>418.000000</td>\n",
       "      <td>418.000000</td>\n",
       "      <td>418.000000</td>\n",
       "      <td>418.000000</td>\n",
       "      <td>418.000000</td>\n",
       "      <td>417.000000</td>\n",
       "    </tr>\n",
       "    <tr>\n",
       "      <th>mean</th>\n",
       "      <td>1100.500000</td>\n",
       "      <td>2.265550</td>\n",
       "      <td>29.599282</td>\n",
       "      <td>0.447368</td>\n",
       "      <td>0.392344</td>\n",
       "      <td>35.627188</td>\n",
       "    </tr>\n",
       "    <tr>\n",
       "      <th>std</th>\n",
       "      <td>120.810458</td>\n",
       "      <td>0.841838</td>\n",
       "      <td>12.703770</td>\n",
       "      <td>0.896760</td>\n",
       "      <td>0.981429</td>\n",
       "      <td>55.907576</td>\n",
       "    </tr>\n",
       "    <tr>\n",
       "      <th>min</th>\n",
       "      <td>892.000000</td>\n",
       "      <td>1.000000</td>\n",
       "      <td>0.170000</td>\n",
       "      <td>0.000000</td>\n",
       "      <td>0.000000</td>\n",
       "      <td>0.000000</td>\n",
       "    </tr>\n",
       "    <tr>\n",
       "      <th>25%</th>\n",
       "      <td>996.250000</td>\n",
       "      <td>1.000000</td>\n",
       "      <td>23.000000</td>\n",
       "      <td>0.000000</td>\n",
       "      <td>0.000000</td>\n",
       "      <td>7.895800</td>\n",
       "    </tr>\n",
       "    <tr>\n",
       "      <th>50%</th>\n",
       "      <td>1100.500000</td>\n",
       "      <td>3.000000</td>\n",
       "      <td>27.000000</td>\n",
       "      <td>0.000000</td>\n",
       "      <td>0.000000</td>\n",
       "      <td>14.454200</td>\n",
       "    </tr>\n",
       "    <tr>\n",
       "      <th>75%</th>\n",
       "      <td>1204.750000</td>\n",
       "      <td>3.000000</td>\n",
       "      <td>35.750000</td>\n",
       "      <td>1.000000</td>\n",
       "      <td>0.000000</td>\n",
       "      <td>31.500000</td>\n",
       "    </tr>\n",
       "    <tr>\n",
       "      <th>max</th>\n",
       "      <td>1309.000000</td>\n",
       "      <td>3.000000</td>\n",
       "      <td>76.000000</td>\n",
       "      <td>8.000000</td>\n",
       "      <td>9.000000</td>\n",
       "      <td>512.329200</td>\n",
       "    </tr>\n",
       "  </tbody>\n",
       "</table>\n",
       "</div>"
      ],
      "text/plain": [
       "       PassengerId      Pclass         Age       SibSp       Parch        Fare\n",
       "count   418.000000  418.000000  418.000000  418.000000  418.000000  417.000000\n",
       "mean   1100.500000    2.265550   29.599282    0.447368    0.392344   35.627188\n",
       "std     120.810458    0.841838   12.703770    0.896760    0.981429   55.907576\n",
       "min     892.000000    1.000000    0.170000    0.000000    0.000000    0.000000\n",
       "25%     996.250000    1.000000   23.000000    0.000000    0.000000    7.895800\n",
       "50%    1100.500000    3.000000   27.000000    0.000000    0.000000   14.454200\n",
       "75%    1204.750000    3.000000   35.750000    1.000000    0.000000   31.500000\n",
       "max    1309.000000    3.000000   76.000000    8.000000    9.000000  512.329200"
      ]
     },
     "execution_count": 11,
     "metadata": {},
     "output_type": "execute_result"
    }
   ],
   "source": [
    "test_data.describe()"
   ]
  },
  {
   "cell_type": "code",
   "execution_count": 12,
   "id": "11cbcad5",
   "metadata": {
    "execution": {
     "iopub.execute_input": "2023-10-19T05:38:28.668190Z",
     "iopub.status.busy": "2023-10-19T05:38:28.667914Z",
     "iopub.status.idle": "2023-10-19T05:38:28.675075Z",
     "shell.execute_reply": "2023-10-19T05:38:28.674255Z"
    },
    "papermill": {
     "duration": 0.060923,
     "end_time": "2023-10-19T05:38:28.676922",
     "exception": false,
     "start_time": "2023-10-19T05:38:28.615999",
     "status": "completed"
    },
    "tags": []
   },
   "outputs": [
    {
     "data": {
      "text/plain": [
       "PassengerId      0\n",
       "Survived         0\n",
       "Pclass           0\n",
       "Name             0\n",
       "Sex              0\n",
       "Age              0\n",
       "SibSp            0\n",
       "Parch            0\n",
       "Ticket           0\n",
       "Fare             0\n",
       "Cabin          687\n",
       "Embarked         2\n",
       "dtype: int64"
      ]
     },
     "execution_count": 12,
     "metadata": {},
     "output_type": "execute_result"
    }
   ],
   "source": [
    "train_data.isnull().sum()\n"
   ]
  },
  {
   "cell_type": "code",
   "execution_count": 13,
   "id": "0e029cd2",
   "metadata": {
    "execution": {
     "iopub.execute_input": "2023-10-19T05:38:28.701802Z",
     "iopub.status.busy": "2023-10-19T05:38:28.701563Z",
     "iopub.status.idle": "2023-10-19T05:38:28.708347Z",
     "shell.execute_reply": "2023-10-19T05:38:28.707514Z"
    },
    "papermill": {
     "duration": 0.021212,
     "end_time": "2023-10-19T05:38:28.710103",
     "exception": false,
     "start_time": "2023-10-19T05:38:28.688891",
     "status": "completed"
    },
    "tags": []
   },
   "outputs": [
    {
     "data": {
      "text/plain": [
       "PassengerId      0\n",
       "Pclass           0\n",
       "Name             0\n",
       "Sex              0\n",
       "Age              0\n",
       "SibSp            0\n",
       "Parch            0\n",
       "Ticket           0\n",
       "Fare             1\n",
       "Cabin          327\n",
       "Embarked         0\n",
       "dtype: int64"
      ]
     },
     "execution_count": 13,
     "metadata": {},
     "output_type": "execute_result"
    }
   ],
   "source": [
    "test_data.isnull().sum()\n"
   ]
  },
  {
   "cell_type": "code",
   "execution_count": 14,
   "id": "90cb739d",
   "metadata": {
    "execution": {
     "iopub.execute_input": "2023-10-19T05:38:28.732535Z",
     "iopub.status.busy": "2023-10-19T05:38:28.732285Z",
     "iopub.status.idle": "2023-10-19T05:38:28.736791Z",
     "shell.execute_reply": "2023-10-19T05:38:28.736085Z"
    },
    "papermill": {
     "duration": 0.017513,
     "end_time": "2023-10-19T05:38:28.738378",
     "exception": false,
     "start_time": "2023-10-19T05:38:28.720865",
     "status": "completed"
    },
    "tags": []
   },
   "outputs": [],
   "source": [
    "test_data['Fare'].fillna(test_data.Fare.mean(), inplace=True)"
   ]
  },
  {
   "cell_type": "markdown",
   "id": "098ae7ca",
   "metadata": {
    "papermill": {
     "duration": 0.011076,
     "end_time": "2023-10-19T05:38:28.760363",
     "exception": false,
     "start_time": "2023-10-19T05:38:28.749287",
     "status": "completed"
    },
    "tags": []
   },
   "source": [
    "# 1.1) Does sex affect the chace of survival?"
   ]
  },
  {
   "cell_type": "code",
   "execution_count": 15,
   "id": "ec4da726",
   "metadata": {
    "execution": {
     "iopub.execute_input": "2023-10-19T05:38:28.782715Z",
     "iopub.status.busy": "2023-10-19T05:38:28.782494Z",
     "iopub.status.idle": "2023-10-19T05:38:28.787146Z",
     "shell.execute_reply": "2023-10-19T05:38:28.786220Z"
    },
    "papermill": {
     "duration": 0.017903,
     "end_time": "2023-10-19T05:38:28.788873",
     "exception": false,
     "start_time": "2023-10-19T05:38:28.770970",
     "status": "completed"
    },
    "tags": []
   },
   "outputs": [],
   "source": [
    "def survival_rate_by_category(df, feature):\n",
    "    category = df[str(feature)].unique()\n",
    "    for i in category:\n",
    "        survival = df[df[str(feature)]==i].Survived.sum()/len(df[df[str(feature)]==i])\n",
    "        print(f\"Propotion of {feature} = {i} survived is {survival}\")"
   ]
  },
  {
   "cell_type": "code",
   "execution_count": 16,
   "id": "6f90b397",
   "metadata": {
    "execution": {
     "iopub.execute_input": "2023-10-19T05:38:28.812494Z",
     "iopub.status.busy": "2023-10-19T05:38:28.812191Z",
     "iopub.status.idle": "2023-10-19T05:38:28.821470Z",
     "shell.execute_reply": "2023-10-19T05:38:28.820637Z"
    },
    "papermill": {
     "duration": 0.022854,
     "end_time": "2023-10-19T05:38:28.823080",
     "exception": false,
     "start_time": "2023-10-19T05:38:28.800226",
     "status": "completed"
    },
    "tags": []
   },
   "outputs": [
    {
     "name": "stdout",
     "output_type": "stream",
     "text": [
      "Propotion of Sex = male survived is 0.18890814558058924\n",
      "Propotion of Sex = female survived is 0.7420382165605095\n"
     ]
    }
   ],
   "source": [
    "survival_rate_by_category(train_data, 'Sex')"
   ]
  },
  {
   "cell_type": "code",
   "execution_count": 17,
   "id": "82bc7c83",
   "metadata": {
    "execution": {
     "iopub.execute_input": "2023-10-19T05:38:28.849962Z",
     "iopub.status.busy": "2023-10-19T05:38:28.849508Z",
     "iopub.status.idle": "2023-10-19T05:38:29.598513Z",
     "shell.execute_reply": "2023-10-19T05:38:29.597713Z"
    },
    "papermill": {
     "duration": 0.765774,
     "end_time": "2023-10-19T05:38:29.600332",
     "exception": false,
     "start_time": "2023-10-19T05:38:28.834558",
     "status": "completed"
    },
    "tags": []
   },
   "outputs": [
    {
     "data": {
      "image/png": "[encoded data removed]",
      "text/plain": [
       "<Figure size 1200x600 with 2 Axes>"
      ]
     },
     "metadata": {},
     "output_type": "display_data"
    }
   ],
   "source": [
    "fig, axes = plt.subplots(1,2,figsize=(12,6))\n",
    "sns.histplot(data=train_data[train_data['Sex']=='female'], x='Age', hue='Survived', stat = 'density', bins=13, ax=axes[0])\n",
    "sns.histplot(data=train_data[train_data['Sex']=='male'], x='Age', hue='Survived', stat = 'density', bins=13,  ax=axes[1])\n",
    "sex = ['Female','Male']\n",
    "for ax, s in zip(axes,sex):\n",
    "    ax.legend(title='Survived', labels=['No', 'Yes'])\n",
    "    ax.set_title(f'{s}')\n"
   ]
  },
  {
   "cell_type": "markdown",
   "id": "bd15fb25",
   "metadata": {
    "papermill": {
     "duration": 0.011286,
     "end_time": "2023-10-19T05:38:29.623311",
     "exception": false,
     "start_time": "2023-10-19T05:38:29.612025",
     "status": "completed"
    },
    "tags": []
   },
   "source": [
    "# 1.2) Does ticket class affect the chace of survival?"
   ]
  },
  {
   "cell_type": "code",
   "execution_count": 18,
   "id": "d8fa0c3d",
   "metadata": {
    "execution": {
     "iopub.execute_input": "2023-10-19T05:38:29.647819Z",
     "iopub.status.busy": "2023-10-19T05:38:29.647570Z",
     "iopub.status.idle": "2023-10-19T05:38:29.655850Z",
     "shell.execute_reply": "2023-10-19T05:38:29.654996Z"
    },
    "papermill": {
     "duration": 0.022533,
     "end_time": "2023-10-19T05:38:29.657487",
     "exception": false,
     "start_time": "2023-10-19T05:38:29.634954",
     "status": "completed"
    },
    "tags": []
   },
   "outputs": [
    {
     "name": "stdout",
     "output_type": "stream",
     "text": [
      "Propotion of Pclass = 3 survived is 0.24236252545824846\n",
      "Propotion of Pclass = 1 survived is 0.6296296296296297\n",
      "Propotion of Pclass = 2 survived is 0.47282608695652173\n"
     ]
    }
   ],
   "source": [
    "survival_rate_by_category(train_data,'Pclass')"
   ]
  },
  {
   "cell_type": "code",
   "execution_count": 19,
   "id": "d51c7702",
   "metadata": {
    "execution": {
     "iopub.execute_input": "2023-10-19T05:38:29.680900Z",
     "iopub.status.busy": "2023-10-19T05:38:29.680687Z",
     "iopub.status.idle": "2023-10-19T05:38:29.986769Z",
     "shell.execute_reply": "2023-10-19T05:38:29.985929Z"
    },
    "papermill": {
     "duration": 0.319816,
     "end_time": "2023-10-19T05:38:29.988547",
     "exception": false,
     "start_time": "2023-10-19T05:38:29.668731",
     "status": "completed"
    },
    "tags": []
   },
   "outputs": [
    {
     "name": "stderr",
     "output_type": "stream",
     "text": [
      "/tmp/ipykernel_151200/2719498658.py:2: FutureWarning: \n",
      "\n",
      "The `ci` parameter is deprecated. Use `errorbar=('ci', 68)` for the same effect.\n",
      "\n",
      "  sns.barplot(x='Pclass', y='Survived', data=train_data, ci=68)\n"
     ]
    },
    {
     "data": {
      "image/png": "[encoded data removed]",
      "text/plain": [
       "<Figure size 640x480 with 1 Axes>"
      ]
     },
     "metadata": {},
     "output_type": "display_data"
    }
   ],
   "source": [
    "# show only 1-sigma for the survival rate\n",
    "sns.barplot(x='Pclass', y='Survived', data=train_data, ci=68)\n",
    "plt.title('Survival Rate by Class')\n",
    "plt.xlabel('Ticket Class')\n",
    "plt.ylabel('Survival Rate');"
   ]
  },
  {
   "cell_type": "markdown",
   "id": "61a074d3",
   "metadata": {
    "papermill": {
     "duration": 0.011756,
     "end_time": "2023-10-19T05:38:30.012732",
     "exception": false,
     "start_time": "2023-10-19T05:38:30.000976",
     "status": "completed"
    },
    "tags": []
   },
   "source": [
    "# 1.3) The data suggests that women survived at a higher rate. Does being a female in first class increase your chances of survival?"
   ]
  },
  {
   "cell_type": "code",
   "execution_count": 20,
   "id": "fedbc1b2",
   "metadata": {
    "execution": {
     "iopub.execute_input": "2023-10-19T05:38:30.037351Z",
     "iopub.status.busy": "2023-10-19T05:38:30.037053Z",
     "iopub.status.idle": "2023-10-19T05:38:30.320447Z",
     "shell.execute_reply": "2023-10-19T05:38:30.319476Z"
    },
    "papermill": {
     "duration": 0.297664,
     "end_time": "2023-10-19T05:38:30.322138",
     "exception": false,
     "start_time": "2023-10-19T05:38:30.024474",
     "status": "completed"
    },
    "tags": []
   },
   "outputs": [
    {
     "data": {
      "image/png": "[encoded data removed]",
      "text/plain": [
       "<Figure size 640x480 with 2 Axes>"
      ]
     },
     "metadata": {},
     "output_type": "display_data"
    }
   ],
   "source": [
    "pivot_table = pd.pivot_table(train_data, values='Survived', index='Sex', columns='Pclass', aggfunc='mean')\n",
    "sns.heatmap(pivot_table, annot=True, cmap='coolwarm', fmt='.2f', cbar=True);"
   ]
  },
  {
   "cell_type": "markdown",
   "id": "fe25396b",
   "metadata": {
    "papermill": {
     "duration": 0.012283,
     "end_time": "2023-10-19T05:38:30.346881",
     "exception": false,
     "start_time": "2023-10-19T05:38:30.334598",
     "status": "completed"
    },
    "tags": []
   },
   "source": [
    "- We can use this as an engineered feature since there is strong correlation!\n",
    "- Will add it to the test set as well to match the dimensions"
   ]
  },
  {
   "cell_type": "code",
   "execution_count": 21,
   "id": "f9d73719",
   "metadata": {
    "execution": {
     "iopub.execute_input": "2023-10-19T05:38:30.373567Z",
     "iopub.status.busy": "2023-10-19T05:38:30.372893Z",
     "iopub.status.idle": "2023-10-19T05:38:30.399916Z",
     "shell.execute_reply": "2023-10-19T05:38:30.399185Z"
    },
    "papermill": {
     "duration": 0.042048,
     "end_time": "2023-10-19T05:38:30.401559",
     "exception": false,
     "start_time": "2023-10-19T05:38:30.359511",
     "status": "completed"
    },
    "tags": []
   },
   "outputs": [],
   "source": [
    "train_data['Adjusted_survival'] = train_data.apply(lambda row: pivot_table.loc[row['Sex'],row['Pclass']],axis=1)\n",
    "test_data['Adjusted_survival'] = test_data.apply(lambda row: pivot_table.loc[row['Sex'],row['Pclass']],axis=1)"
   ]
  },
  {
   "cell_type": "markdown",
   "id": "5152946e",
   "metadata": {
    "papermill": {
     "duration": 0.011683,
     "end_time": "2023-10-19T05:38:30.425112",
     "exception": false,
     "start_time": "2023-10-19T05:38:30.413429",
     "status": "completed"
    },
    "tags": []
   },
   "source": [
    "# 1.4) What about titles? Does the chance of survival depend on whether you're a common man or a major?"
   ]
  },
  {
   "cell_type": "code",
   "execution_count": 22,
   "id": "6b78ce95",
   "metadata": {
    "execution": {
     "iopub.execute_input": "2023-10-19T05:38:30.449962Z",
     "iopub.status.busy": "2023-10-19T05:38:30.449734Z",
     "iopub.status.idle": "2023-10-19T05:38:30.460484Z",
     "shell.execute_reply": "2023-10-19T05:38:30.459689Z"
    },
    "papermill": {
     "duration": 0.024946,
     "end_time": "2023-10-19T05:38:30.462037",
     "exception": false,
     "start_time": "2023-10-19T05:38:30.437091",
     "status": "completed"
    },
    "tags": []
   },
   "outputs": [
    {
     "data": {
      "text/plain": [
       "Title\n",
       "Mr          517\n",
       "Miss        182\n",
       "Mrs         125\n",
       "Master       40\n",
       "Dr            7\n",
       "Rev           6\n",
       "Mlle          2\n",
       "Major         2\n",
       "Col           2\n",
       "Countess      1\n",
       "Capt          1\n",
       "Ms            1\n",
       "Sir           1\n",
       "Lady          1\n",
       "Mme           1\n",
       "Don           1\n",
       "Jonkheer      1\n",
       "Name: count, dtype: int64"
      ]
     },
     "execution_count": 22,
     "metadata": {},
     "output_type": "execute_result"
    }
   ],
   "source": [
    "train_data['Title'] = train_data['Name'].str.extract(r'(\\w+)(?=\\.)')\n",
    "test_data['Title'] = test_data['Name'].str.extract(r'(\\w+)(?=\\.)')\n",
    "train_data.Title.value_counts()"
   ]
  },
  {
   "cell_type": "code",
   "execution_count": 23,
   "id": "28278476",
   "metadata": {
    "execution": {
     "iopub.execute_input": "2023-10-19T05:38:30.486617Z",
     "iopub.status.busy": "2023-10-19T05:38:30.486385Z",
     "iopub.status.idle": "2023-10-19T05:38:30.815901Z",
     "shell.execute_reply": "2023-10-19T05:38:30.815030Z"
    },
    "papermill": {
     "duration": 0.343969,
     "end_time": "2023-10-19T05:38:30.817813",
     "exception": false,
     "start_time": "2023-10-19T05:38:30.473844",
     "status": "completed"
    },
    "tags": []
   },
   "outputs": [
    {
     "data": {
      "text/plain": [
       "<Axes: xlabel='Title', ylabel='Density'>"
      ]
     },
     "execution_count": 23,
     "metadata": {},
     "output_type": "execute_result"
    },
    {
     "data": {
      "image/png": "[encoded data removed]",
      "text/plain": [
       "<Figure size 1600x800 with 1 Axes>"
      ]
     },
     "metadata": {},
     "output_type": "display_data"
    }
   ],
   "source": [
    "plt.figure(figsize=(16,8))\n",
    "sns.histplot(data=train_data, x='Title', hue='Survived', stat = 'density', bins=13)\n"
   ]
  },
  {
   "cell_type": "markdown",
   "id": "7223627a",
   "metadata": {
    "papermill": {
     "duration": 0.013823,
     "end_time": "2023-10-19T05:38:30.845370",
     "exception": false,
     "start_time": "2023-10-19T05:38:30.831547",
     "status": "completed"
    },
    "tags": []
   },
   "source": [
    "- Miss hass the higher chance of survival but we already knew that more women survived. We can ignore the title as a feature."
   ]
  },
  {
   "cell_type": "code",
   "execution_count": 24,
   "id": "73b73fb6",
   "metadata": {
    "execution": {
     "iopub.execute_input": "2023-10-19T05:38:30.872177Z",
     "iopub.status.busy": "2023-10-19T05:38:30.871931Z",
     "iopub.status.idle": "2023-10-19T05:38:30.877831Z",
     "shell.execute_reply": "2023-10-19T05:38:30.877053Z"
    },
    "papermill": {
     "duration": 0.020351,
     "end_time": "2023-10-19T05:38:30.879227",
     "exception": false,
     "start_time": "2023-10-19T05:38:30.858876",
     "status": "completed"
    },
    "tags": []
   },
   "outputs": [],
   "source": [
    "train_data.drop(columns=['Title'],axis=1,inplace=True)\n",
    "test_data.drop(columns=['Title'],axis=1,inplace=True)"
   ]
  },
  {
   "cell_type": "markdown",
   "id": "0c61f40b",
   "metadata": {
    "papermill": {
     "duration": 0.013069,
     "end_time": "2023-10-19T05:38:30.904623",
     "exception": false,
     "start_time": "2023-10-19T05:38:30.891554",
     "status": "completed"
    },
    "tags": []
   },
   "source": [
    "# 1.5) Does Embarked affect the survival rate? \n"
   ]
  },
  {
   "cell_type": "code",
   "execution_count": 25,
   "id": "9c793210",
   "metadata": {
    "execution": {
     "iopub.execute_input": "2023-10-19T05:38:30.930602Z",
     "iopub.status.busy": "2023-10-19T05:38:30.930365Z",
     "iopub.status.idle": "2023-10-19T05:38:30.937528Z",
     "shell.execute_reply": "2023-10-19T05:38:30.936700Z"
    },
    "papermill": {
     "duration": 0.02194,
     "end_time": "2023-10-19T05:38:30.939066",
     "exception": false,
     "start_time": "2023-10-19T05:38:30.917126",
     "status": "completed"
    },
    "tags": []
   },
   "outputs": [
    {
     "name": "stdout",
     "output_type": "stream",
     "text": [
      "<class 'pandas.core.series.Series'>\n",
      "RangeIndex: 891 entries, 0 to 890\n",
      "Series name: Embarked\n",
      "Non-Null Count  Dtype \n",
      "--------------  ----- \n",
      "889 non-null    object\n",
      "dtypes: object(1)\n",
      "memory usage: 7.1+ KB\n"
     ]
    }
   ],
   "source": [
    "train_data.Embarked.info()"
   ]
  },
  {
   "cell_type": "code",
   "execution_count": 26,
   "id": "7d0ba4c1",
   "metadata": {
    "execution": {
     "iopub.execute_input": "2023-10-19T05:38:30.964694Z",
     "iopub.status.busy": "2023-10-19T05:38:30.964486Z",
     "iopub.status.idle": "2023-10-19T05:38:30.971030Z",
     "shell.execute_reply": "2023-10-19T05:38:30.970372Z"
    },
    "papermill": {
     "duration": 0.021143,
     "end_time": "2023-10-19T05:38:30.972567",
     "exception": false,
     "start_time": "2023-10-19T05:38:30.951424",
     "status": "completed"
    },
    "tags": []
   },
   "outputs": [
    {
     "data": {
      "text/plain": [
       "0"
      ]
     },
     "execution_count": 26,
     "metadata": {},
     "output_type": "execute_result"
    }
   ],
   "source": [
    "common_value = train_data.Embarked.value_counts().sort_values(ascending=False).index[0]\n",
    "train_data.Embarked.fillna(common_value, inplace=True)\n",
    "train_data.Embarked.isnull().sum()"
   ]
  },
  {
   "cell_type": "code",
   "execution_count": 27,
   "id": "7bc11f76",
   "metadata": {
    "execution": {
     "iopub.execute_input": "2023-10-19T05:38:30.998587Z",
     "iopub.status.busy": "2023-10-19T05:38:30.998370Z",
     "iopub.status.idle": "2023-10-19T05:38:31.254674Z",
     "shell.execute_reply": "2023-10-19T05:38:31.253775Z"
    },
    "papermill": {
     "duration": 0.2716,
     "end_time": "2023-10-19T05:38:31.256598",
     "exception": false,
     "start_time": "2023-10-19T05:38:30.984998",
     "status": "completed"
    },
    "tags": []
   },
   "outputs": [
    {
     "name": "stderr",
     "output_type": "stream",
     "text": [
      "/tmp/ipykernel_151200/1212533756.py:1: FutureWarning: \n",
      "\n",
      "The `ci` parameter is deprecated. Use `errorbar=('ci', 68)` for the same effect.\n",
      "\n",
      "  sns.barplot(x='Embarked', y='Survived', data=train_data, ci=68)\n"
     ]
    },
    {
     "data": {
      "image/png": "[encoded data removed]",
      "text/plain": [
       "<Figure size 640x480 with 1 Axes>"
      ]
     },
     "metadata": {},
     "output_type": "display_data"
    }
   ],
   "source": [
    "sns.barplot(x='Embarked', y='Survived', data=train_data, ci=68)\n",
    "plt.title('Survival Rate by Boarding Dock')\n",
    "plt.xlabel('Boarding Dock')\n",
    "plt.ylabel('Survival Rate');"
   ]
  },
  {
   "cell_type": "markdown",
   "id": "8283cc6e",
   "metadata": {
    "papermill": {
     "duration": 0.012954,
     "end_time": "2023-10-19T05:38:31.283338",
     "exception": false,
     "start_time": "2023-10-19T05:38:31.270384",
     "status": "completed"
    },
    "tags": []
   },
   "source": [
    "- it makes a bit of a difference: let's add it as a feature."
   ]
  },
  {
   "cell_type": "markdown",
   "id": "8f8edf32",
   "metadata": {
    "papermill": {
     "duration": 0.013042,
     "end_time": "2023-10-19T05:38:31.309845",
     "exception": false,
     "start_time": "2023-10-19T05:38:31.296803",
     "status": "completed"
    },
    "tags": []
   },
   "source": [
    "# 1.6) What about family?\n",
    "- SibSp: number of siblings and/or spouses \n",
    "- Parch: number of parents/children aboard the Titanic"
   ]
  },
  {
   "cell_type": "markdown",
   "id": "6257d870",
   "metadata": {
    "papermill": {
     "duration": 0.012965,
     "end_time": "2023-10-19T05:38:31.336049",
     "exception": false,
     "start_time": "2023-10-19T05:38:31.323084",
     "status": "completed"
    },
    "tags": []
   },
   "source": [
    " "
   ]
  },
  {
   "cell_type": "code",
   "execution_count": 28,
   "id": "a5eb11db",
   "metadata": {
    "execution": {
     "iopub.execute_input": "2023-10-19T05:38:31.363772Z",
     "iopub.status.busy": "2023-10-19T05:38:31.363484Z",
     "iopub.status.idle": "2023-10-19T05:38:31.369044Z",
     "shell.execute_reply": "2023-10-19T05:38:31.368371Z"
    },
    "papermill": {
     "duration": 0.021282,
     "end_time": "2023-10-19T05:38:31.370626",
     "exception": false,
     "start_time": "2023-10-19T05:38:31.349344",
     "status": "completed"
    },
    "tags": []
   },
   "outputs": [],
   "source": [
    "# let's add a column for family = SibSp + Parch\n",
    "train_data['Family'] = train_data['SibSp'] + train_data['Parch']\n",
    "test_data['Family'] = test_data['SibSp'] + test_data['Parch']"
   ]
  },
  {
   "cell_type": "code",
   "execution_count": 29,
   "id": "399cb756",
   "metadata": {
    "execution": {
     "iopub.execute_input": "2023-10-19T05:38:31.398393Z",
     "iopub.status.busy": "2023-10-19T05:38:31.398120Z",
     "iopub.status.idle": "2023-10-19T05:38:31.410405Z",
     "shell.execute_reply": "2023-10-19T05:38:31.409510Z"
    },
    "papermill": {
     "duration": 0.028218,
     "end_time": "2023-10-19T05:38:31.411892",
     "exception": false,
     "start_time": "2023-10-19T05:38:31.383674",
     "status": "completed"
    },
    "tags": []
   },
   "outputs": [
    {
     "name": "stdout",
     "output_type": "stream",
     "text": [
      "Propotion of SibSp = 1 survived is 0.5358851674641149\n",
      "Propotion of SibSp = 0 survived is 0.34539473684210525\n",
      "Propotion of SibSp = 3 survived is 0.25\n",
      "Propotion of SibSp = 4 survived is 0.16666666666666666\n",
      "Propotion of SibSp = 2 survived is 0.4642857142857143\n",
      "Propotion of SibSp = 5 survived is 0.0\n",
      "Propotion of SibSp = 8 survived is 0.0\n"
     ]
    }
   ],
   "source": [
    "survival_rate_by_category(train_data,'SibSp')"
   ]
  },
  {
   "cell_type": "code",
   "execution_count": 30,
   "id": "5a59eb63",
   "metadata": {
    "execution": {
     "iopub.execute_input": "2023-10-19T05:38:31.439407Z",
     "iopub.status.busy": "2023-10-19T05:38:31.439098Z",
     "iopub.status.idle": "2023-10-19T05:38:31.450847Z",
     "shell.execute_reply": "2023-10-19T05:38:31.449942Z"
    },
    "papermill": {
     "duration": 0.027666,
     "end_time": "2023-10-19T05:38:31.452600",
     "exception": false,
     "start_time": "2023-10-19T05:38:31.424934",
     "status": "completed"
    },
    "tags": []
   },
   "outputs": [
    {
     "name": "stdout",
     "output_type": "stream",
     "text": [
      "Propotion of Parch = 0 survived is 0.34365781710914456\n",
      "Propotion of Parch = 1 survived is 0.5508474576271186\n",
      "Propotion of Parch = 2 survived is 0.5\n",
      "Propotion of Parch = 5 survived is 0.2\n",
      "Propotion of Parch = 3 survived is 0.6\n",
      "Propotion of Parch = 4 survived is 0.0\n",
      "Propotion of Parch = 6 survived is 0.0\n"
     ]
    }
   ],
   "source": [
    "survival_rate_by_category(train_data,'Parch')"
   ]
  },
  {
   "cell_type": "code",
   "execution_count": 31,
   "id": "e025592b",
   "metadata": {
    "execution": {
     "iopub.execute_input": "2023-10-19T05:38:31.480632Z",
     "iopub.status.busy": "2023-10-19T05:38:31.480382Z",
     "iopub.status.idle": "2023-10-19T05:38:31.494803Z",
     "shell.execute_reply": "2023-10-19T05:38:31.493862Z"
    },
    "papermill": {
     "duration": 0.030385,
     "end_time": "2023-10-19T05:38:31.496365",
     "exception": false,
     "start_time": "2023-10-19T05:38:31.465980",
     "status": "completed"
    },
    "tags": []
   },
   "outputs": [
    {
     "name": "stdout",
     "output_type": "stream",
     "text": [
      "Propotion of Family = 1 survived is 0.5527950310559007\n",
      "Propotion of Family = 0 survived is 0.30353817504655495\n",
      "Propotion of Family = 4 survived is 0.2\n",
      "Propotion of Family = 2 survived is 0.5784313725490197\n",
      "Propotion of Family = 6 survived is 0.3333333333333333\n",
      "Propotion of Family = 5 survived is 0.13636363636363635\n",
      "Propotion of Family = 3 survived is 0.7241379310344828\n",
      "Propotion of Family = 7 survived is 0.0\n",
      "Propotion of Family = 10 survived is 0.0\n"
     ]
    }
   ],
   "source": [
    "survival_rate_by_category(train_data,'Family')"
   ]
  },
  {
   "cell_type": "code",
   "execution_count": 32,
   "id": "424b53e4",
   "metadata": {
    "execution": {
     "iopub.execute_input": "2023-10-19T05:38:31.523575Z",
     "iopub.status.busy": "2023-10-19T05:38:31.523363Z",
     "iopub.status.idle": "2023-10-19T05:38:31.865424Z",
     "shell.execute_reply": "2023-10-19T05:38:31.864256Z"
    },
    "papermill": {
     "duration": 0.35887,
     "end_time": "2023-10-19T05:38:31.868551",
     "exception": false,
     "start_time": "2023-10-19T05:38:31.509681",
     "status": "completed"
    },
    "tags": []
   },
   "outputs": [
    {
     "data": {
      "text/plain": [
       "<Axes: xlabel='Family', ylabel='Survived'>"
      ]
     },
     "execution_count": 32,
     "metadata": {},
     "output_type": "execute_result"
    },
    {
     "data": {
      "image/png": "[encoded data removed]",
      "text/plain": [
       "<Figure size 640x480 with 1 Axes>"
      ]
     },
     "metadata": {},
     "output_type": "display_data"
    }
   ],
   "source": [
    "sns.barplot(data=train_data, x='Family', y='Survived')"
   ]
  },
  {
   "cell_type": "code",
   "execution_count": 33,
   "id": "04e73d8b",
   "metadata": {
    "execution": {
     "iopub.execute_input": "2023-10-19T05:38:31.915581Z",
     "iopub.status.busy": "2023-10-19T05:38:31.915307Z",
     "iopub.status.idle": "2023-10-19T05:38:32.266226Z",
     "shell.execute_reply": "2023-10-19T05:38:32.265362Z"
    },
    "papermill": {
     "duration": 0.367179,
     "end_time": "2023-10-19T05:38:32.268035",
     "exception": false,
     "start_time": "2023-10-19T05:38:31.900856",
     "status": "completed"
    },
    "tags": []
   },
   "outputs": [
    {
     "data": {
      "image/png": "[encoded data removed]",
      "text/plain": [
       "<Figure size 640x480 with 2 Axes>"
      ]
     },
     "metadata": {},
     "output_type": "display_data"
    }
   ],
   "source": [
    "pivot_table_family = pd.pivot_table(train_data, values='Survived', index='SibSp', columns='Parch', aggfunc='mean')\n",
    "sns.heatmap(pivot_table_family, annot=True, cmap='coolwarm', fmt='.2f', cbar=True);"
   ]
  },
  {
   "cell_type": "markdown",
   "id": "4bbd0608",
   "metadata": {
    "papermill": {
     "duration": 0.013802,
     "end_time": "2023-10-19T05:38:32.296071",
     "exception": false,
     "start_time": "2023-10-19T05:38:32.282269",
     "status": "completed"
    },
    "tags": []
   },
   "source": [
    "- This info palces strong constrains on the data. \n",
    "- Given that Family is degenerat with SibSp and Parch, we will only add Family."
   ]
  },
  {
   "cell_type": "code",
   "execution_count": 34,
   "id": "d4e7de47",
   "metadata": {
    "execution": {
     "iopub.execute_input": "2023-10-19T05:38:32.325165Z",
     "iopub.status.busy": "2023-10-19T05:38:32.324920Z",
     "iopub.status.idle": "2023-10-19T05:38:32.339586Z",
     "shell.execute_reply": "2023-10-19T05:38:32.338721Z"
    },
    "papermill": {
     "duration": 0.031686,
     "end_time": "2023-10-19T05:38:32.341312",
     "exception": false,
     "start_time": "2023-10-19T05:38:32.309626",
     "status": "completed"
    },
    "tags": []
   },
   "outputs": [
    {
     "data": {
      "text/html": [
       "<div>\n",
       "<style scoped>\n",
       "    .dataframe tbody tr th:only-of-type {\n",
       "        vertical-align: middle;\n",
       "    }\n",
       "\n",
       "    .dataframe tbody tr th {\n",
       "        vertical-align: top;\n",
       "    }\n",
       "\n",
       "    .dataframe thead th {\n",
       "        text-align: right;\n",
       "    }\n",
       "</style>\n",
       "<table border=\"1\" class=\"dataframe\">\n",
       "  <thead>\n",
       "    <tr style=\"text-align: right;\">\n",
       "      <th></th>\n",
       "      <th>PassengerId</th>\n",
       "      <th>Survived</th>\n",
       "      <th>Pclass</th>\n",
       "      <th>Name</th>\n",
       "      <th>Sex</th>\n",
       "      <th>Age</th>\n",
       "      <th>SibSp</th>\n",
       "      <th>Parch</th>\n",
       "      <th>Ticket</th>\n",
       "      <th>Fare</th>\n",
       "      <th>Cabin</th>\n",
       "      <th>Embarked</th>\n",
       "      <th>Adjusted_survival</th>\n",
       "      <th>Family</th>\n",
       "    </tr>\n",
       "  </thead>\n",
       "  <tbody>\n",
       "    <tr>\n",
       "      <th>0</th>\n",
       "      <td>1</td>\n",
       "      <td>0</td>\n",
       "      <td>3</td>\n",
       "      <td>Braund, Mr. Owen Harris</td>\n",
       "      <td>male</td>\n",
       "      <td>22.0</td>\n",
       "      <td>1</td>\n",
       "      <td>0</td>\n",
       "      <td>A/5 21171</td>\n",
       "      <td>7.2500</td>\n",
       "      <td>NaN</td>\n",
       "      <td>S</td>\n",
       "      <td>0.135447</td>\n",
       "      <td>1</td>\n",
       "    </tr>\n",
       "    <tr>\n",
       "      <th>1</th>\n",
       "      <td>2</td>\n",
       "      <td>1</td>\n",
       "      <td>1</td>\n",
       "      <td>Cumings, Mrs. John Bradley (Florence Briggs Th...</td>\n",
       "      <td>female</td>\n",
       "      <td>38.0</td>\n",
       "      <td>1</td>\n",
       "      <td>0</td>\n",
       "      <td>PC 17599</td>\n",
       "      <td>71.2833</td>\n",
       "      <td>C85</td>\n",
       "      <td>C</td>\n",
       "      <td>0.968085</td>\n",
       "      <td>1</td>\n",
       "    </tr>\n",
       "    <tr>\n",
       "      <th>2</th>\n",
       "      <td>3</td>\n",
       "      <td>1</td>\n",
       "      <td>3</td>\n",
       "      <td>Heikkinen, Miss. Laina</td>\n",
       "      <td>female</td>\n",
       "      <td>26.0</td>\n",
       "      <td>0</td>\n",
       "      <td>0</td>\n",
       "      <td>STON/O2. 3101282</td>\n",
       "      <td>7.9250</td>\n",
       "      <td>NaN</td>\n",
       "      <td>S</td>\n",
       "      <td>0.500000</td>\n",
       "      <td>0</td>\n",
       "    </tr>\n",
       "    <tr>\n",
       "      <th>3</th>\n",
       "      <td>4</td>\n",
       "      <td>1</td>\n",
       "      <td>1</td>\n",
       "      <td>Futrelle, Mrs. Jacques Heath (Lily May Peel)</td>\n",
       "      <td>female</td>\n",
       "      <td>35.0</td>\n",
       "      <td>1</td>\n",
       "      <td>0</td>\n",
       "      <td>113803</td>\n",
       "      <td>53.1000</td>\n",
       "      <td>C123</td>\n",
       "      <td>S</td>\n",
       "      <td>0.968085</td>\n",
       "      <td>1</td>\n",
       "    </tr>\n",
       "    <tr>\n",
       "      <th>4</th>\n",
       "      <td>5</td>\n",
       "      <td>0</td>\n",
       "      <td>3</td>\n",
       "      <td>Allen, Mr. William Henry</td>\n",
       "      <td>male</td>\n",
       "      <td>35.0</td>\n",
       "      <td>0</td>\n",
       "      <td>0</td>\n",
       "      <td>373450</td>\n",
       "      <td>8.0500</td>\n",
       "      <td>NaN</td>\n",
       "      <td>S</td>\n",
       "      <td>0.135447</td>\n",
       "      <td>0</td>\n",
       "    </tr>\n",
       "  </tbody>\n",
       "</table>\n",
       "</div>"
      ],
      "text/plain": [
       "   PassengerId  Survived  Pclass  \\\n",
       "0            1         0       3   \n",
       "1            2         1       1   \n",
       "2            3         1       3   \n",
       "3            4         1       1   \n",
       "4            5         0       3   \n",
       "\n",
       "                                                Name     Sex   Age  SibSp  \\\n",
       "0                            Braund, Mr. Owen Harris    male  22.0      1   \n",
       "1  Cumings, Mrs. John Bradley (Florence Briggs Th...  female  38.0      1   \n",
       "2                             Heikkinen, Miss. Laina  female  26.0      0   \n",
       "3       Futrelle, Mrs. Jacques Heath (Lily May Peel)  female  35.0      1   \n",
       "4                           Allen, Mr. William Henry    male  35.0      0   \n",
       "\n",
       "   Parch            Ticket     Fare Cabin Embarked  Adjusted_survival  Family  \n",
       "0      0         A/5 21171   7.2500   NaN        S           0.135447       1  \n",
       "1      0          PC 17599  71.2833   C85        C           0.968085       1  \n",
       "2      0  STON/O2. 3101282   7.9250   NaN        S           0.500000       0  \n",
       "3      0            113803  53.1000  C123        S           0.968085       1  \n",
       "4      0            373450   8.0500   NaN        S           0.135447       0  "
      ]
     },
     "execution_count": 34,
     "metadata": {},
     "output_type": "execute_result"
    }
   ],
   "source": [
    "train_data.head()"
   ]
  },
  {
   "cell_type": "markdown",
   "id": "f36d8afc",
   "metadata": {
    "papermill": {
     "duration": 0.013693,
     "end_time": "2023-10-19T05:38:32.369844",
     "exception": false,
     "start_time": "2023-10-19T05:38:32.356151",
     "status": "completed"
    },
    "tags": []
   },
   "source": [
    "# Before moving forward, let's check the test data compatibilty with these new features"
   ]
  },
  {
   "cell_type": "code",
   "execution_count": 35,
   "id": "e3535621",
   "metadata": {
    "execution": {
     "iopub.execute_input": "2023-10-19T05:38:32.398756Z",
     "iopub.status.busy": "2023-10-19T05:38:32.398108Z",
     "iopub.status.idle": "2023-10-19T05:38:32.408522Z",
     "shell.execute_reply": "2023-10-19T05:38:32.407584Z"
    },
    "papermill": {
     "duration": 0.026454,
     "end_time": "2023-10-19T05:38:32.410098",
     "exception": false,
     "start_time": "2023-10-19T05:38:32.383644",
     "status": "completed"
    },
    "tags": []
   },
   "outputs": [
    {
     "name": "stdout",
     "output_type": "stream",
     "text": [
      "<class 'pandas.core.frame.DataFrame'>\n",
      "RangeIndex: 418 entries, 0 to 417\n",
      "Data columns (total 13 columns):\n",
      " #   Column             Non-Null Count  Dtype  \n",
      "---  ------             --------------  -----  \n",
      " 0   PassengerId        418 non-null    int64  \n",
      " 1   Pclass             418 non-null    int64  \n",
      " 2   Name               418 non-null    object \n",
      " 3   Sex                418 non-null    object \n",
      " 4   Age                418 non-null    float64\n",
      " 5   SibSp              418 non-null    int64  \n",
      " 6   Parch              418 non-null    int64  \n",
      " 7   Ticket             418 non-null    object \n",
      " 8   Fare               418 non-null    float64\n",
      " 9   Cabin              91 non-null     object \n",
      " 10  Embarked           418 non-null    object \n",
      " 11  Adjusted_survival  418 non-null    float64\n",
      " 12  Family             418 non-null    int64  \n",
      "dtypes: float64(3), int64(5), object(5)\n",
      "memory usage: 42.6+ KB\n"
     ]
    }
   ],
   "source": [
    "test_data.info()"
   ]
  },
  {
   "cell_type": "code",
   "execution_count": 36,
   "id": "29f01b73",
   "metadata": {
    "execution": {
     "iopub.execute_input": "2023-10-19T05:38:32.438632Z",
     "iopub.status.busy": "2023-10-19T05:38:32.438394Z",
     "iopub.status.idle": "2023-10-19T05:38:32.445093Z",
     "shell.execute_reply": "2023-10-19T05:38:32.444229Z"
    },
    "papermill": {
     "duration": 0.022888,
     "end_time": "2023-10-19T05:38:32.446727",
     "exception": false,
     "start_time": "2023-10-19T05:38:32.423839",
     "status": "completed"
    },
    "tags": []
   },
   "outputs": [
    {
     "data": {
      "text/plain": [
       "PassengerId            0\n",
       "Pclass                 0\n",
       "Name                   0\n",
       "Sex                    0\n",
       "Age                    0\n",
       "SibSp                  0\n",
       "Parch                  0\n",
       "Ticket                 0\n",
       "Fare                   0\n",
       "Cabin                327\n",
       "Embarked               0\n",
       "Adjusted_survival      0\n",
       "Family                 0\n",
       "dtype: int64"
      ]
     },
     "execution_count": 36,
     "metadata": {},
     "output_type": "execute_result"
    }
   ],
   "source": [
    "test_data.isnull().sum()"
   ]
  },
  {
   "cell_type": "code",
   "execution_count": 37,
   "id": "68b234f3",
   "metadata": {
    "execution": {
     "iopub.execute_input": "2023-10-19T05:38:32.475844Z",
     "iopub.status.busy": "2023-10-19T05:38:32.475601Z",
     "iopub.status.idle": "2023-10-19T05:38:32.479865Z",
     "shell.execute_reply": "2023-10-19T05:38:32.479042Z"
    },
    "papermill": {
     "duration": 0.020672,
     "end_time": "2023-10-19T05:38:32.481432",
     "exception": false,
     "start_time": "2023-10-19T05:38:32.460760",
     "status": "completed"
    },
    "tags": []
   },
   "outputs": [],
   "source": [
    "test_data.Fare.fillna(test_data.Fare.mean(), inplace=True)"
   ]
  },
  {
   "cell_type": "code",
   "execution_count": 38,
   "id": "2d0d40ac",
   "metadata": {
    "execution": {
     "iopub.execute_input": "2023-10-19T05:38:32.511575Z",
     "iopub.status.busy": "2023-10-19T05:38:32.511314Z",
     "iopub.status.idle": "2023-10-19T05:38:32.519373Z",
     "shell.execute_reply": "2023-10-19T05:38:32.518395Z"
    },
    "papermill": {
     "duration": 0.025523,
     "end_time": "2023-10-19T05:38:32.521259",
     "exception": false,
     "start_time": "2023-10-19T05:38:32.495736",
     "status": "completed"
    },
    "tags": []
   },
   "outputs": [
    {
     "data": {
      "text/plain": [
       "PassengerId            0\n",
       "Survived               0\n",
       "Pclass                 0\n",
       "Name                   0\n",
       "Sex                    0\n",
       "Age                    0\n",
       "SibSp                  0\n",
       "Parch                  0\n",
       "Ticket                 0\n",
       "Fare                   0\n",
       "Cabin                687\n",
       "Embarked               0\n",
       "Adjusted_survival      0\n",
       "Family                 0\n",
       "dtype: int64"
      ]
     },
     "execution_count": 38,
     "metadata": {},
     "output_type": "execute_result"
    }
   ],
   "source": [
    "train_data.isnull().sum()"
   ]
  },
  {
   "cell_type": "code",
   "execution_count": 39,
   "id": "ddc84c4c",
   "metadata": {
    "execution": {
     "iopub.execute_input": "2023-10-19T05:38:32.555569Z",
     "iopub.status.busy": "2023-10-19T05:38:32.554936Z",
     "iopub.status.idle": "2023-10-19T05:38:32.561271Z",
     "shell.execute_reply": "2023-10-19T05:38:32.560337Z"
    },
    "papermill": {
     "duration": 0.025709,
     "end_time": "2023-10-19T05:38:32.563134",
     "exception": false,
     "start_time": "2023-10-19T05:38:32.537425",
     "status": "completed"
    },
    "tags": []
   },
   "outputs": [
    {
     "data": {
      "text/plain": [
       "True"
      ]
     },
     "execution_count": 39,
     "metadata": {},
     "output_type": "execute_result"
    }
   ],
   "source": [
    "[i for i in train_data.columns.tolist() if i!= 'Survived'] == test_data.columns.tolist()\n"
   ]
  },
  {
   "cell_type": "code",
   "execution_count": 40,
   "id": "b534a753",
   "metadata": {
    "execution": {
     "iopub.execute_input": "2023-10-19T05:38:32.597764Z",
     "iopub.status.busy": "2023-10-19T05:38:32.597490Z",
     "iopub.status.idle": "2023-10-19T05:38:32.603201Z",
     "shell.execute_reply": "2023-10-19T05:38:32.602349Z"
    },
    "papermill": {
     "duration": 0.025198,
     "end_time": "2023-10-19T05:38:32.604927",
     "exception": false,
     "start_time": "2023-10-19T05:38:32.579729",
     "status": "completed"
    },
    "tags": []
   },
   "outputs": [
    {
     "data": {
      "text/plain": [
       "['PassengerId',\n",
       " 'Survived',\n",
       " 'Pclass',\n",
       " 'Name',\n",
       " 'Sex',\n",
       " 'Age',\n",
       " 'SibSp',\n",
       " 'Parch',\n",
       " 'Ticket',\n",
       " 'Fare',\n",
       " 'Cabin',\n",
       " 'Embarked',\n",
       " 'Adjusted_survival',\n",
       " 'Family']"
      ]
     },
     "execution_count": 40,
     "metadata": {},
     "output_type": "execute_result"
    }
   ],
   "source": [
    "train_data.columns.tolist()"
   ]
  },
  {
   "cell_type": "code",
   "execution_count": 41,
   "id": "767cbedf",
   "metadata": {
    "execution": {
     "iopub.execute_input": "2023-10-19T05:38:32.638613Z",
     "iopub.status.busy": "2023-10-19T05:38:32.638371Z",
     "iopub.status.idle": "2023-10-19T05:38:32.652494Z",
     "shell.execute_reply": "2023-10-19T05:38:32.651613Z"
    },
    "papermill": {
     "duration": 0.033153,
     "end_time": "2023-10-19T05:38:32.654434",
     "exception": false,
     "start_time": "2023-10-19T05:38:32.621281",
     "status": "completed"
    },
    "tags": []
   },
   "outputs": [
    {
     "data": {
      "text/html": [
       "<div>\n",
       "<style scoped>\n",
       "    .dataframe tbody tr th:only-of-type {\n",
       "        vertical-align: middle;\n",
       "    }\n",
       "\n",
       "    .dataframe tbody tr th {\n",
       "        vertical-align: top;\n",
       "    }\n",
       "\n",
       "    .dataframe thead th {\n",
       "        text-align: right;\n",
       "    }\n",
       "</style>\n",
       "<table border=\"1\" class=\"dataframe\">\n",
       "  <thead>\n",
       "    <tr style=\"text-align: right;\">\n",
       "      <th></th>\n",
       "      <th>PassengerId</th>\n",
       "      <th>Survived</th>\n",
       "      <th>Pclass</th>\n",
       "      <th>Name</th>\n",
       "      <th>Sex</th>\n",
       "      <th>Age</th>\n",
       "      <th>SibSp</th>\n",
       "      <th>Parch</th>\n",
       "      <th>Ticket</th>\n",
       "      <th>Fare</th>\n",
       "      <th>Cabin</th>\n",
       "      <th>Embarked</th>\n",
       "      <th>Adjusted_survival</th>\n",
       "      <th>Family</th>\n",
       "    </tr>\n",
       "  </thead>\n",
       "  <tbody>\n",
       "    <tr>\n",
       "      <th>0</th>\n",
       "      <td>1</td>\n",
       "      <td>0</td>\n",
       "      <td>3</td>\n",
       "      <td>Braund, Mr. Owen Harris</td>\n",
       "      <td>male</td>\n",
       "      <td>22.0</td>\n",
       "      <td>1</td>\n",
       "      <td>0</td>\n",
       "      <td>A/5 21171</td>\n",
       "      <td>7.2500</td>\n",
       "      <td>NaN</td>\n",
       "      <td>S</td>\n",
       "      <td>0.135447</td>\n",
       "      <td>1</td>\n",
       "    </tr>\n",
       "    <tr>\n",
       "      <th>1</th>\n",
       "      <td>2</td>\n",
       "      <td>1</td>\n",
       "      <td>1</td>\n",
       "      <td>Cumings, Mrs. John Bradley (Florence Briggs Th...</td>\n",
       "      <td>female</td>\n",
       "      <td>38.0</td>\n",
       "      <td>1</td>\n",
       "      <td>0</td>\n",
       "      <td>PC 17599</td>\n",
       "      <td>71.2833</td>\n",
       "      <td>C85</td>\n",
       "      <td>C</td>\n",
       "      <td>0.968085</td>\n",
       "      <td>1</td>\n",
       "    </tr>\n",
       "    <tr>\n",
       "      <th>2</th>\n",
       "      <td>3</td>\n",
       "      <td>1</td>\n",
       "      <td>3</td>\n",
       "      <td>Heikkinen, Miss. Laina</td>\n",
       "      <td>female</td>\n",
       "      <td>26.0</td>\n",
       "      <td>0</td>\n",
       "      <td>0</td>\n",
       "      <td>STON/O2. 3101282</td>\n",
       "      <td>7.9250</td>\n",
       "      <td>NaN</td>\n",
       "      <td>S</td>\n",
       "      <td>0.500000</td>\n",
       "      <td>0</td>\n",
       "    </tr>\n",
       "    <tr>\n",
       "      <th>3</th>\n",
       "      <td>4</td>\n",
       "      <td>1</td>\n",
       "      <td>1</td>\n",
       "      <td>Futrelle, Mrs. Jacques Heath (Lily May Peel)</td>\n",
       "      <td>female</td>\n",
       "      <td>35.0</td>\n",
       "      <td>1</td>\n",
       "      <td>0</td>\n",
       "      <td>113803</td>\n",
       "      <td>53.1000</td>\n",
       "      <td>C123</td>\n",
       "      <td>S</td>\n",
       "      <td>0.968085</td>\n",
       "      <td>1</td>\n",
       "    </tr>\n",
       "    <tr>\n",
       "      <th>4</th>\n",
       "      <td>5</td>\n",
       "      <td>0</td>\n",
       "      <td>3</td>\n",
       "      <td>Allen, Mr. William Henry</td>\n",
       "      <td>male</td>\n",
       "      <td>35.0</td>\n",
       "      <td>0</td>\n",
       "      <td>0</td>\n",
       "      <td>373450</td>\n",
       "      <td>8.0500</td>\n",
       "      <td>NaN</td>\n",
       "      <td>S</td>\n",
       "      <td>0.135447</td>\n",
       "      <td>0</td>\n",
       "    </tr>\n",
       "  </tbody>\n",
       "</table>\n",
       "</div>"
      ],
      "text/plain": [
       "   PassengerId  Survived  Pclass  \\\n",
       "0            1         0       3   \n",
       "1            2         1       1   \n",
       "2            3         1       3   \n",
       "3            4         1       1   \n",
       "4            5         0       3   \n",
       "\n",
       "                                                Name     Sex   Age  SibSp  \\\n",
       "0                            Braund, Mr. Owen Harris    male  22.0      1   \n",
       "1  Cumings, Mrs. John Bradley (Florence Briggs Th...  female  38.0      1   \n",
       "2                             Heikkinen, Miss. Laina  female  26.0      0   \n",
       "3       Futrelle, Mrs. Jacques Heath (Lily May Peel)  female  35.0      1   \n",
       "4                           Allen, Mr. William Henry    male  35.0      0   \n",
       "\n",
       "   Parch            Ticket     Fare Cabin Embarked  Adjusted_survival  Family  \n",
       "0      0         A/5 21171   7.2500   NaN        S           0.135447       1  \n",
       "1      0          PC 17599  71.2833   C85        C           0.968085       1  \n",
       "2      0  STON/O2. 3101282   7.9250   NaN        S           0.500000       0  \n",
       "3      0            113803  53.1000  C123        S           0.968085       1  \n",
       "4      0            373450   8.0500   NaN        S           0.135447       0  "
      ]
     },
     "execution_count": 41,
     "metadata": {},
     "output_type": "execute_result"
    }
   ],
   "source": [
    "train_data.head()"
   ]
  },
  {
   "cell_type": "markdown",
   "id": "b4348779",
   "metadata": {
    "papermill": {
     "duration": 0.016672,
     "end_time": "2023-10-19T05:38:32.687603",
     "exception": false,
     "start_time": "2023-10-19T05:38:32.670931",
     "status": "completed"
    },
    "tags": []
   },
   "source": [
    "# 2) Feature Selection\n",
    "\n",
    "- Age, Fare, Pclass as is\n",
    "- Hot-encoded: Sex, Embarked\n",
    "- Engineered: 1) Family. 2) Adjusted_survival based on correlation between Pclass and Age\n",
    "\n",
    "Age, Fare, Sex (hot-encoded value), Engineered Title (hot-encoded value), Pclass, Sibsp, Parch "
   ]
  },
  {
   "cell_type": "code",
   "execution_count": 42,
   "id": "1f063d9a",
   "metadata": {
    "execution": {
     "iopub.execute_input": "2023-10-19T05:38:32.722307Z",
     "iopub.status.busy": "2023-10-19T05:38:32.721993Z",
     "iopub.status.idle": "2023-10-19T05:38:32.855127Z",
     "shell.execute_reply": "2023-10-19T05:38:32.854375Z"
    },
    "papermill": {
     "duration": 0.152667,
     "end_time": "2023-10-19T05:38:32.857076",
     "exception": false,
     "start_time": "2023-10-19T05:38:32.704409",
     "status": "completed"
    },
    "tags": []
   },
   "outputs": [],
   "source": [
    "#reinitialize the frames\n",
    "train_data = pd.read_csv('./train.csv')\n",
    "test_data = pd.read_csv('./test.csv')\n",
    "\n",
    "# drop irrelevant columns\n",
    "def drop_col_feature_eng_separate_target(df):\n",
    "    # change index\n",
    "    df.set_index('PassengerId',inplace=True)\n",
    "    df['Adjusted_survival'] = df.apply(lambda row: pivot_table.loc[row['Sex'],row['Pclass']],axis=1)\n",
    "    df['Family'] = df['SibSp'] + df['Parch']\n",
    "    df['Age'].fillna(df['Age'].median(), inplace=True)\n",
    "\n",
    "    # drop some irrelevant features\n",
    "    df.drop(['Ticket', 'Cabin','SibSp','Parch', 'Name'], axis=1, inplace=True)\n",
    "    # hot encode Sex and Embarked. Family & Adjusted-Survival have been added already\n",
    "    df_new = pd.get_dummies(df, columns=['Sex', 'Embarked'],dtype=int)\n",
    "    \n",
    "    \n",
    "    features = [i for i in df_new.columns.tolist() if i!= 'Survived']\n",
    "    X = df_new[features]\n",
    "    if 'Survived' in df.columns:\n",
    "        Y = df_new['Survived']\n",
    "    else:\n",
    "        Y = None\n",
    "    return X, Y, features\n",
    "\n",
    "X_train_clean, y_train_clean, features = drop_col_feature_eng_separate_target(train_data)\n",
    "X_test_clean, _, _ = drop_col_feature_eng_separate_target(test_data)"
   ]
  },
  {
   "cell_type": "code",
   "execution_count": 43,
   "id": "a864ae55",
   "metadata": {
    "execution": {
     "iopub.execute_input": "2023-10-19T05:38:32.891498Z",
     "iopub.status.busy": "2023-10-19T05:38:32.891191Z",
     "iopub.status.idle": "2023-10-19T05:38:32.896639Z",
     "shell.execute_reply": "2023-10-19T05:38:32.895966Z"
    },
    "papermill": {
     "duration": 0.023694,
     "end_time": "2023-10-19T05:38:32.898145",
     "exception": false,
     "start_time": "2023-10-19T05:38:32.874451",
     "status": "completed"
    },
    "tags": []
   },
   "outputs": [
    {
     "data": {
      "text/plain": [
       "['Pclass',\n",
       " 'Age',\n",
       " 'Fare',\n",
       " 'Adjusted_survival',\n",
       " 'Family',\n",
       " 'Sex_female',\n",
       " 'Sex_male',\n",
       " 'Embarked_C',\n",
       " 'Embarked_Q',\n",
       " 'Embarked_S']"
      ]
     },
     "execution_count": 43,
     "metadata": {},
     "output_type": "execute_result"
    }
   ],
   "source": [
    "X_train_clean.columns.tolist()"
   ]
  },
  {
   "cell_type": "code",
   "execution_count": 44,
   "id": "55b46afe",
   "metadata": {
    "execution": {
     "iopub.execute_input": "2023-10-19T05:38:32.929491Z",
     "iopub.status.busy": "2023-10-19T05:38:32.929232Z",
     "iopub.status.idle": "2023-10-19T05:38:32.934258Z",
     "shell.execute_reply": "2023-10-19T05:38:32.933606Z"
    },
    "papermill": {
     "duration": 0.022949,
     "end_time": "2023-10-19T05:38:32.935726",
     "exception": false,
     "start_time": "2023-10-19T05:38:32.912777",
     "status": "completed"
    },
    "tags": []
   },
   "outputs": [
    {
     "data": {
      "text/plain": [
       "['Pclass',\n",
       " 'Age',\n",
       " 'Fare',\n",
       " 'Adjusted_survival',\n",
       " 'Family',\n",
       " 'Sex_female',\n",
       " 'Sex_male',\n",
       " 'Embarked_C',\n",
       " 'Embarked_Q',\n",
       " 'Embarked_S']"
      ]
     },
     "execution_count": 44,
     "metadata": {},
     "output_type": "execute_result"
    }
   ],
   "source": [
    "X_test_clean.columns.tolist()"
   ]
  },
  {
   "cell_type": "code",
   "execution_count": 45,
   "id": "7f0c3d8a",
   "metadata": {
    "execution": {
     "iopub.execute_input": "2023-10-19T05:38:32.966678Z",
     "iopub.status.busy": "2023-10-19T05:38:32.966441Z",
     "iopub.status.idle": "2023-10-19T05:38:32.980276Z",
     "shell.execute_reply": "2023-10-19T05:38:32.979392Z"
    },
    "papermill": {
     "duration": 0.031051,
     "end_time": "2023-10-19T05:38:32.981818",
     "exception": false,
     "start_time": "2023-10-19T05:38:32.950767",
     "status": "completed"
    },
    "tags": []
   },
   "outputs": [
    {
     "data": {
      "text/html": [
       "<div>\n",
       "<style scoped>\n",
       "    .dataframe tbody tr th:only-of-type {\n",
       "        vertical-align: middle;\n",
       "    }\n",
       "\n",
       "    .dataframe tbody tr th {\n",
       "        vertical-align: top;\n",
       "    }\n",
       "\n",
       "    .dataframe thead th {\n",
       "        text-align: right;\n",
       "    }\n",
       "</style>\n",
       "<table border=\"1\" class=\"dataframe\">\n",
       "  <thead>\n",
       "    <tr style=\"text-align: right;\">\n",
       "      <th></th>\n",
       "      <th>Pclass</th>\n",
       "      <th>Age</th>\n",
       "      <th>Fare</th>\n",
       "      <th>Adjusted_survival</th>\n",
       "      <th>Family</th>\n",
       "      <th>Sex_female</th>\n",
       "      <th>Sex_male</th>\n",
       "      <th>Embarked_C</th>\n",
       "      <th>Embarked_Q</th>\n",
       "      <th>Embarked_S</th>\n",
       "    </tr>\n",
       "    <tr>\n",
       "      <th>PassengerId</th>\n",
       "      <th></th>\n",
       "      <th></th>\n",
       "      <th></th>\n",
       "      <th></th>\n",
       "      <th></th>\n",
       "      <th></th>\n",
       "      <th></th>\n",
       "      <th></th>\n",
       "      <th></th>\n",
       "      <th></th>\n",
       "    </tr>\n",
       "  </thead>\n",
       "  <tbody>\n",
       "    <tr>\n",
       "      <th>1</th>\n",
       "      <td>3</td>\n",
       "      <td>22.0</td>\n",
       "      <td>7.2500</td>\n",
       "      <td>0.135447</td>\n",
       "      <td>1</td>\n",
       "      <td>0</td>\n",
       "      <td>1</td>\n",
       "      <td>0</td>\n",
       "      <td>0</td>\n",
       "      <td>1</td>\n",
       "    </tr>\n",
       "    <tr>\n",
       "      <th>2</th>\n",
       "      <td>1</td>\n",
       "      <td>38.0</td>\n",
       "      <td>71.2833</td>\n",
       "      <td>0.968085</td>\n",
       "      <td>1</td>\n",
       "      <td>1</td>\n",
       "      <td>0</td>\n",
       "      <td>1</td>\n",
       "      <td>0</td>\n",
       "      <td>0</td>\n",
       "    </tr>\n",
       "    <tr>\n",
       "      <th>3</th>\n",
       "      <td>3</td>\n",
       "      <td>26.0</td>\n",
       "      <td>7.9250</td>\n",
       "      <td>0.500000</td>\n",
       "      <td>0</td>\n",
       "      <td>1</td>\n",
       "      <td>0</td>\n",
       "      <td>0</td>\n",
       "      <td>0</td>\n",
       "      <td>1</td>\n",
       "    </tr>\n",
       "    <tr>\n",
       "      <th>4</th>\n",
       "      <td>1</td>\n",
       "      <td>35.0</td>\n",
       "      <td>53.1000</td>\n",
       "      <td>0.968085</td>\n",
       "      <td>1</td>\n",
       "      <td>1</td>\n",
       "      <td>0</td>\n",
       "      <td>0</td>\n",
       "      <td>0</td>\n",
       "      <td>1</td>\n",
       "    </tr>\n",
       "    <tr>\n",
       "      <th>5</th>\n",
       "      <td>3</td>\n",
       "      <td>35.0</td>\n",
       "      <td>8.0500</td>\n",
       "      <td>0.135447</td>\n",
       "      <td>0</td>\n",
       "      <td>0</td>\n",
       "      <td>1</td>\n",
       "      <td>0</td>\n",
       "      <td>0</td>\n",
       "      <td>1</td>\n",
       "    </tr>\n",
       "    <tr>\n",
       "      <th>...</th>\n",
       "      <td>...</td>\n",
       "      <td>...</td>\n",
       "      <td>...</td>\n",
       "      <td>...</td>\n",
       "      <td>...</td>\n",
       "      <td>...</td>\n",
       "      <td>...</td>\n",
       "      <td>...</td>\n",
       "      <td>...</td>\n",
       "      <td>...</td>\n",
       "    </tr>\n",
       "    <tr>\n",
       "      <th>887</th>\n",
       "      <td>2</td>\n",
       "      <td>27.0</td>\n",
       "      <td>13.0000</td>\n",
       "      <td>0.157407</td>\n",
       "      <td>0</td>\n",
       "      <td>0</td>\n",
       "      <td>1</td>\n",
       "      <td>0</td>\n",
       "      <td>0</td>\n",
       "      <td>1</td>\n",
       "    </tr>\n",
       "    <tr>\n",
       "      <th>888</th>\n",
       "      <td>1</td>\n",
       "      <td>19.0</td>\n",
       "      <td>30.0000</td>\n",
       "      <td>0.968085</td>\n",
       "      <td>0</td>\n",
       "      <td>1</td>\n",
       "      <td>0</td>\n",
       "      <td>0</td>\n",
       "      <td>0</td>\n",
       "      <td>1</td>\n",
       "    </tr>\n",
       "    <tr>\n",
       "      <th>889</th>\n",
       "      <td>3</td>\n",
       "      <td>28.0</td>\n",
       "      <td>23.4500</td>\n",
       "      <td>0.500000</td>\n",
       "      <td>3</td>\n",
       "      <td>1</td>\n",
       "      <td>0</td>\n",
       "      <td>0</td>\n",
       "      <td>0</td>\n",
       "      <td>1</td>\n",
       "    </tr>\n",
       "    <tr>\n",
       "      <th>890</th>\n",
       "      <td>1</td>\n",
       "      <td>26.0</td>\n",
       "      <td>30.0000</td>\n",
       "      <td>0.368852</td>\n",
       "      <td>0</td>\n",
       "      <td>0</td>\n",
       "      <td>1</td>\n",
       "      <td>1</td>\n",
       "      <td>0</td>\n",
       "      <td>0</td>\n",
       "    </tr>\n",
       "    <tr>\n",
       "      <th>891</th>\n",
       "      <td>3</td>\n",
       "      <td>32.0</td>\n",
       "      <td>7.7500</td>\n",
       "      <td>0.135447</td>\n",
       "      <td>0</td>\n",
       "      <td>0</td>\n",
       "      <td>1</td>\n",
       "      <td>0</td>\n",
       "      <td>1</td>\n",
       "      <td>0</td>\n",
       "    </tr>\n",
       "  </tbody>\n",
       "</table>\n",
       "<p>891 rows × 10 columns</p>\n",
       "</div>"
      ],
      "text/plain": [
       "             Pclass   Age     Fare  Adjusted_survival  Family  Sex_female  \\\n",
       "PassengerId                                                                 \n",
       "1                 3  22.0   7.2500           0.135447       1           0   \n",
       "2                 1  38.0  71.2833           0.968085       1           1   \n",
       "3                 3  26.0   7.9250           0.500000       0           1   \n",
       "4                 1  35.0  53.1000           0.968085       1           1   \n",
       "5                 3  35.0   8.0500           0.135447       0           0   \n",
       "...             ...   ...      ...                ...     ...         ...   \n",
       "887               2  27.0  13.0000           0.157407       0           0   \n",
       "888               1  19.0  30.0000           0.968085       0           1   \n",
       "889               3  28.0  23.4500           0.500000       3           1   \n",
       "890               1  26.0  30.0000           0.368852       0           0   \n",
       "891               3  32.0   7.7500           0.135447       0           0   \n",
       "\n",
       "             Sex_male  Embarked_C  Embarked_Q  Embarked_S  \n",
       "PassengerId                                                \n",
       "1                   1           0           0           1  \n",
       "2                   0           1           0           0  \n",
       "3                   0           0           0           1  \n",
       "4                   0           0           0           1  \n",
       "5                   1           0           0           1  \n",
       "...               ...         ...         ...         ...  \n",
       "887                 1           0           0           1  \n",
       "888                 0           0           0           1  \n",
       "889                 0           0           0           1  \n",
       "890                 1           1           0           0  \n",
       "891                 1           0           1           0  \n",
       "\n",
       "[891 rows x 10 columns]"
      ]
     },
     "execution_count": 45,
     "metadata": {},
     "output_type": "execute_result"
    }
   ],
   "source": [
    "X_train_clean"
   ]
  },
  {
   "cell_type": "code",
   "execution_count": 46,
   "id": "0479a3b1",
   "metadata": {
    "execution": {
     "iopub.execute_input": "2023-10-19T05:38:33.014361Z",
     "iopub.status.busy": "2023-10-19T05:38:33.013622Z",
     "iopub.status.idle": "2023-10-19T05:38:33.019447Z",
     "shell.execute_reply": "2023-10-19T05:38:33.018658Z"
    },
    "papermill": {
     "duration": 0.02402,
     "end_time": "2023-10-19T05:38:33.021072",
     "exception": false,
     "start_time": "2023-10-19T05:38:32.997052",
     "status": "completed"
    },
    "tags": []
   },
   "outputs": [],
   "source": [
    "RAND_STAT = 10\n",
    "X_train, X_cv, y_train, y_cv = train_test_split(X_train_clean, y_train_clean, train_size = 0.8, random_state = RAND_STAT)\n"
   ]
  },
  {
   "cell_type": "code",
   "execution_count": 47,
   "id": "36e9b378",
   "metadata": {
    "execution": {
     "iopub.execute_input": "2023-10-19T05:38:33.053550Z",
     "iopub.status.busy": "2023-10-19T05:38:33.053292Z",
     "iopub.status.idle": "2023-10-19T05:38:33.057656Z",
     "shell.execute_reply": "2023-10-19T05:38:33.056827Z"
    },
    "papermill": {
     "duration": 0.023726,
     "end_time": "2023-10-19T05:38:33.059662",
     "exception": false,
     "start_time": "2023-10-19T05:38:33.035936",
     "status": "completed"
    },
    "tags": []
   },
   "outputs": [
    {
     "name": "stdout",
     "output_type": "stream",
     "text": [
      "train samples: 712\n",
      "test samples: 179\n"
     ]
    }
   ],
   "source": [
    "print(f'train samples: {len(X_train)}\\ntest samples: {len(X_cv)}')\n"
   ]
  },
  {
   "cell_type": "code",
   "execution_count": 48,
   "id": "0082d327",
   "metadata": {
    "execution": {
     "iopub.execute_input": "2023-10-19T05:38:33.096282Z",
     "iopub.status.busy": "2023-10-19T05:38:33.095971Z",
     "iopub.status.idle": "2023-10-19T05:38:33.104002Z",
     "shell.execute_reply": "2023-10-19T05:38:33.103047Z"
    },
    "papermill": {
     "duration": 0.028485,
     "end_time": "2023-10-19T05:38:33.105842",
     "exception": false,
     "start_time": "2023-10-19T05:38:33.077357",
     "status": "completed"
    },
    "tags": []
   },
   "outputs": [
    {
     "data": {
      "text/plain": [
       "Pclass               0\n",
       "Age                  0\n",
       "Fare                 0\n",
       "Adjusted_survival    0\n",
       "Family               0\n",
       "Sex_female           0\n",
       "Sex_male             0\n",
       "Embarked_C           0\n",
       "Embarked_Q           0\n",
       "Embarked_S           0\n",
       "dtype: int64"
      ]
     },
     "execution_count": 48,
     "metadata": {},
     "output_type": "execute_result"
    }
   ],
   "source": [
    "X_train.isnull().sum()"
   ]
  },
  {
   "cell_type": "markdown",
   "id": "b483989d",
   "metadata": {
    "papermill": {
     "duration": 0.020149,
     "end_time": "2023-10-19T05:38:33.143673",
     "exception": false,
     "start_time": "2023-10-19T05:38:33.123524",
     "status": "completed"
    },
    "tags": []
   },
   "source": [
    "# 3) Choosing the Model\n",
    "- Let's test different depths and min_samples_split to see which ones have the best accuracy on the cross validation test and choose the optimal params for our model"
   ]
  },
  {
   "cell_type": "code",
   "execution_count": 49,
   "id": "b4ff88d1",
   "metadata": {
    "execution": {
     "iopub.execute_input": "2023-10-19T05:38:33.180876Z",
     "iopub.status.busy": "2023-10-19T05:38:33.180152Z",
     "iopub.status.idle": "2023-10-19T05:38:33.184465Z",
     "shell.execute_reply": "2023-10-19T05:38:33.183643Z"
    },
    "papermill": {
     "duration": 0.024561,
     "end_time": "2023-10-19T05:38:33.185959",
     "exception": false,
     "start_time": "2023-10-19T05:38:33.161398",
     "status": "completed"
    },
    "tags": []
   },
   "outputs": [],
   "source": [
    "#\n",
    "min_samples_split_list = [2, 5, 10, 30, 40, 50, 60] ## If the number is an integer, then it is the actual quantity of samples,\n",
    "max_depth_list = [1, 2, 3, 4, 5, 6, 7, 8, 9, 10, 20, 30, 40] # None means that there is no depth limit."
   ]
  },
  {
   "cell_type": "code",
   "execution_count": 50,
   "id": "ecdd9b89",
   "metadata": {
    "execution": {
     "iopub.execute_input": "2023-10-19T05:38:33.218673Z",
     "iopub.status.busy": "2023-10-19T05:38:33.218446Z",
     "iopub.status.idle": "2023-10-19T05:38:33.542033Z",
     "shell.execute_reply": "2023-10-19T05:38:33.541080Z"
    },
    "papermill": {
     "duration": 0.342028,
     "end_time": "2023-10-19T05:38:33.543744",
     "exception": false,
     "start_time": "2023-10-19T05:38:33.201716",
     "status": "completed"
    },
    "tags": []
   },
   "outputs": [
    {
     "data": {
      "text/plain": [
       "<matplotlib.legend.Legend at 0x7facb0defd90>"
      ]
     },
     "execution_count": 50,
     "metadata": {},
     "output_type": "execute_result"
    },
    {
     "data": {
      "image/png": "[encoded data removed]",
      "text/plain": [
       "<Figure size 640x480 with 1 Axes>"
      ]
     },
     "metadata": {},
     "output_type": "display_data"
    }
   ],
   "source": [
    "accuracy_list_train = []\n",
    "accuracy_list_cv = []\n",
    "for min_samples_split in min_samples_split_list:\n",
    "    model = DecisionTreeClassifier(min_samples_split = min_samples_split,\n",
    "                                   random_state = RAND_STAT).fit(X_train,y_train) \n",
    "    predictions_train = model.predict(X_train) ## The predicted values for the train dataset\n",
    "    predictions_cv = model.predict(X_cv) ## The predicted values for the test dataset\n",
    "    accuracy_train = accuracy_score(predictions_train,y_train)\n",
    "    accuracy_cv = accuracy_score(predictions_cv,y_cv)\n",
    "    accuracy_list_train.append(accuracy_train)\n",
    "    accuracy_list_cv.append(accuracy_cv)\n",
    "\n",
    "plt.title('Train v.s. Cross Validation metrics')\n",
    "plt.xlabel('min_samples_split')\n",
    "plt.ylabel('accuracy')\n",
    "plt.xticks(ticks = range(len(min_samples_split_list )),labels=min_samples_split_list)\n",
    "plt.plot(accuracy_list_train)\n",
    "plt.plot(accuracy_list_cv)\n",
    "plt.legend(['Train','Cross Validation'])"
   ]
  },
  {
   "cell_type": "code",
   "execution_count": 51,
   "id": "79bf766a",
   "metadata": {
    "execution": {
     "iopub.execute_input": "2023-10-19T05:38:33.576879Z",
     "iopub.status.busy": "2023-10-19T05:38:33.576172Z",
     "iopub.status.idle": "2023-10-19T05:38:33.579825Z",
     "shell.execute_reply": "2023-10-19T05:38:33.579248Z"
    },
    "papermill": {
     "duration": 0.021569,
     "end_time": "2023-10-19T05:38:33.581518",
     "exception": false,
     "start_time": "2023-10-19T05:38:33.559949",
     "status": "completed"
    },
    "tags": []
   },
   "outputs": [],
   "source": [
    "# min_samples_split is the sweet spot. min_samples_split > 30 gives a high bias \n",
    "# while <30 gives high variance\n",
    "best_min_samples_split = 40"
   ]
  },
  {
   "cell_type": "code",
   "execution_count": 52,
   "id": "aceccc92",
   "metadata": {
    "execution": {
     "iopub.execute_input": "2023-10-19T05:38:33.615629Z",
     "iopub.status.busy": "2023-10-19T05:38:33.615394Z",
     "iopub.status.idle": "2023-10-19T05:38:33.976817Z",
     "shell.execute_reply": "2023-10-19T05:38:33.975925Z"
    },
    "papermill": {
     "duration": 0.380123,
     "end_time": "2023-10-19T05:38:33.978475",
     "exception": false,
     "start_time": "2023-10-19T05:38:33.598352",
     "status": "completed"
    },
    "tags": []
   },
   "outputs": [
    {
     "data": {
      "text/plain": [
       "<matplotlib.legend.Legend at 0x7fad20616ce0>"
      ]
     },
     "execution_count": 52,
     "metadata": {},
     "output_type": "execute_result"
    },
    {
     "data": {
      "image/png": "[encoded data removed]",
      "text/plain": [
       "<Figure size 640x480 with 1 Axes>"
      ]
     },
     "metadata": {},
     "output_type": "display_data"
    }
   ],
   "source": [
    "accuracy_list_train = []\n",
    "accuracy_list_cv = []\n",
    "for max_depth in max_depth_list:\n",
    "    # You can fit the model at the same time you define it, because the fit function returns the fitted estimator.\n",
    "    model = DecisionTreeClassifier(max_depth = max_depth,\n",
    "                                   random_state = RAND_STAT).fit(X_train,y_train) \n",
    "    predictions_train = model.predict(X_train) ## The predicted values for the train dataset\n",
    "    predictions_cv = model.predict(X_cv) ## The predicted values for the cv dataset\n",
    "    accuracy_train = accuracy_score(predictions_train,y_train)\n",
    "    accuracy_cv = accuracy_score(predictions_cv,y_cv)\n",
    "    accuracy_list_train.append(accuracy_train)\n",
    "    accuracy_list_cv.append(accuracy_cv)\n",
    "\n",
    "plt.title('Train x Cross Validation metrics')\n",
    "plt.xlabel('max_depth')\n",
    "plt.ylabel('accuracy')\n",
    "plt.xticks(ticks = range(len(max_depth_list )),labels=max_depth_list)\n",
    "plt.plot(accuracy_list_train)\n",
    "plt.plot(accuracy_list_cv)\n",
    "plt.legend(['Train','cv'])"
   ]
  },
  {
   "cell_type": "code",
   "execution_count": 53,
   "id": "98bcdfd6",
   "metadata": {
    "execution": {
     "iopub.execute_input": "2023-10-19T05:38:34.012801Z",
     "iopub.status.busy": "2023-10-19T05:38:34.012517Z",
     "iopub.status.idle": "2023-10-19T05:38:34.016157Z",
     "shell.execute_reply": "2023-10-19T05:38:34.015333Z"
    },
    "papermill": {
     "duration": 0.022682,
     "end_time": "2023-10-19T05:38:34.017909",
     "exception": false,
     "start_time": "2023-10-19T05:38:33.995227",
     "status": "completed"
    },
    "tags": []
   },
   "outputs": [],
   "source": [
    "# maximum cv accuracy reached at max_depth = 8\n",
    "best_max_depth = 6"
   ]
  },
  {
   "cell_type": "markdown",
   "id": "8a5caaa7",
   "metadata": {
    "papermill": {
     "duration": 0.015714,
     "end_time": "2023-10-19T05:38:34.049551",
     "exception": false,
     "start_time": "2023-10-19T05:38:34.033837",
     "status": "completed"
    },
    "tags": []
   },
   "source": [
    "# 4) Building the Model"
   ]
  },
  {
   "cell_type": "code",
   "execution_count": 54,
   "id": "3f854a9d",
   "metadata": {
    "execution": {
     "iopub.execute_input": "2023-10-19T05:38:34.083595Z",
     "iopub.status.busy": "2023-10-19T05:38:34.083342Z",
     "iopub.status.idle": "2023-10-19T05:38:34.090640Z",
     "shell.execute_reply": "2023-10-19T05:38:34.089935Z"
    },
    "papermill": {
     "duration": 0.026773,
     "end_time": "2023-10-19T05:38:34.092295",
     "exception": false,
     "start_time": "2023-10-19T05:38:34.065522",
     "status": "completed"
    },
    "tags": []
   },
   "outputs": [],
   "source": [
    "decision_tree_model = DecisionTreeClassifier(min_samples_split = best_min_samples_split,\n",
    "                                             max_depth = best_max_depth,\n",
    "                                             random_state = RAND_STAT).fit(X_train,y_train)"
   ]
  },
  {
   "cell_type": "code",
   "execution_count": 55,
   "id": "d478d3e9",
   "metadata": {
    "execution": {
     "iopub.execute_input": "2023-10-19T05:38:34.127921Z",
     "iopub.status.busy": "2023-10-19T05:38:34.127678Z",
     "iopub.status.idle": "2023-10-19T05:38:34.137990Z",
     "shell.execute_reply": "2023-10-19T05:38:34.136969Z"
    },
    "papermill": {
     "duration": 0.030608,
     "end_time": "2023-10-19T05:38:34.139870",
     "exception": false,
     "start_time": "2023-10-19T05:38:34.109262",
     "status": "completed"
    },
    "tags": []
   },
   "outputs": [
    {
     "name": "stdout",
     "output_type": "stream",
     "text": [
      "Metrics train:\n",
      "\tAccuracy score: 0.8287\n",
      "Metrics cross-validation:\n",
      "\tAccuracy score: 0.82\n"
     ]
    }
   ],
   "source": [
    "# How does the model perform on training and cross-validation?\n",
    "print(f\"Metrics train:\\n\\tAccuracy score: {accuracy_score(decision_tree_model.predict(X_train),y_train):.4f}\\nMetrics cross-validation:\\n\\tAccuracy score: {accuracy_score(decision_tree_model.predict(X_cv),y_cv):.2f}\")"
   ]
  },
  {
   "cell_type": "markdown",
   "id": "b0820a76",
   "metadata": {
    "papermill": {
     "duration": 0.016104,
     "end_time": "2023-10-19T05:38:34.174052",
     "exception": false,
     "start_time": "2023-10-19T05:38:34.157948",
     "status": "completed"
    },
    "tags": []
   },
   "source": [
    "# 5) Inference\n",
    "\n",
    "- Import the test dataset\n",
    "- Prepare it in the same way\n",
    "- Carry out inference"
   ]
  },
  {
   "cell_type": "code",
   "execution_count": 60,
   "id": "1682c541",
   "metadata": {
    "execution": {
     "iopub.execute_input": "2023-10-19T05:38:34.208188Z",
     "iopub.status.busy": "2023-10-19T05:38:34.207950Z",
     "iopub.status.idle": "2023-10-19T05:38:34.215242Z",
     "shell.execute_reply": "2023-10-19T05:38:34.214389Z"
    },
    "papermill": {
     "duration": 0.025886,
     "end_time": "2023-10-19T05:38:34.216816",
     "exception": false,
     "start_time": "2023-10-19T05:38:34.190930",
     "status": "completed"
    },
    "tags": []
   },
   "outputs": [],
   "source": [
    "test_data = pd.read_csv('./test.csv')"
   ]
  },
  {
   "cell_type": "code",
   "execution_count": 61,
   "id": "8622efe0",
   "metadata": {
    "execution": {
     "iopub.execute_input": "2023-10-19T05:38:34.252181Z",
     "iopub.status.busy": "2023-10-19T05:38:34.251677Z",
     "iopub.status.idle": "2023-10-19T05:38:34.270535Z",
     "shell.execute_reply": "2023-10-19T05:38:34.269780Z"
    },
    "papermill": {
     "duration": 0.038291,
     "end_time": "2023-10-19T05:38:34.272107",
     "exception": false,
     "start_time": "2023-10-19T05:38:34.233816",
     "status": "completed"
    },
    "tags": []
   },
   "outputs": [],
   "source": [
    "# clean the data\n",
    "X_test, y_test, features = drop_col_feature_eng_separate_target(test_data)\n",
    "X_test['Fare'].fillna(X_test['Fare'].median(), inplace=True)"
   ]
  },
  {
   "cell_type": "code",
   "execution_count": 62,
   "id": "2f7b4bf7",
   "metadata": {
    "execution": {
     "iopub.execute_input": "2023-10-19T05:38:34.307395Z",
     "iopub.status.busy": "2023-10-19T05:38:34.307133Z",
     "iopub.status.idle": "2023-10-19T05:38:34.316864Z",
     "shell.execute_reply": "2023-10-19T05:38:34.315753Z"
    },
    "papermill": {
     "duration": 0.029375,
     "end_time": "2023-10-19T05:38:34.318620",
     "exception": false,
     "start_time": "2023-10-19T05:38:34.289245",
     "status": "completed"
    },
    "tags": []
   },
   "outputs": [
    {
     "name": "stdout",
     "output_type": "stream",
     "text": [
      "<class 'pandas.core.frame.DataFrame'>\n",
      "Index: 418 entries, 892 to 1309\n",
      "Data columns (total 10 columns):\n",
      " #   Column             Non-Null Count  Dtype  \n",
      "---  ------             --------------  -----  \n",
      " 0   Pclass             418 non-null    int64  \n",
      " 1   Age                418 non-null    float64\n",
      " 2   Fare               418 non-null    float64\n",
      " 3   Adjusted_survival  418 non-null    float64\n",
      " 4   Family             418 non-null    int64  \n",
      " 5   Sex_female         418 non-null    int64  \n",
      " 6   Sex_male           418 non-null    int64  \n",
      " 7   Embarked_C         418 non-null    int64  \n",
      " 8   Embarked_Q         418 non-null    int64  \n",
      " 9   Embarked_S         418 non-null    int64  \n",
      "dtypes: float64(3), int64(7)\n",
      "memory usage: 35.9 KB\n"
     ]
    }
   ],
   "source": [
    "X_test.info()"
   ]
  },
  {
   "cell_type": "code",
   "execution_count": 63,
   "id": "2d3488de",
   "metadata": {
    "execution": {
     "iopub.execute_input": "2023-10-19T05:38:34.354475Z",
     "iopub.status.busy": "2023-10-19T05:38:34.354190Z",
     "iopub.status.idle": "2023-10-19T05:38:34.360803Z",
     "shell.execute_reply": "2023-10-19T05:38:34.360157Z"
    },
    "papermill": {
     "duration": 0.025781,
     "end_time": "2023-10-19T05:38:34.362404",
     "exception": false,
     "start_time": "2023-10-19T05:38:34.336623",
     "status": "completed"
    },
    "tags": []
   },
   "outputs": [
    {
     "data": {
      "text/plain": [
       "Pclass               0\n",
       "Age                  0\n",
       "Fare                 0\n",
       "Adjusted_survival    0\n",
       "Family               0\n",
       "Sex_female           0\n",
       "Sex_male             0\n",
       "Embarked_C           0\n",
       "Embarked_Q           0\n",
       "Embarked_S           0\n",
       "dtype: int64"
      ]
     },
     "execution_count": 63,
     "metadata": {},
     "output_type": "execute_result"
    }
   ],
   "source": [
    "X_test.isnull().sum()"
   ]
  },
  {
   "cell_type": "code",
   "execution_count": 64,
   "id": "69d07020",
   "metadata": {
    "execution": {
     "iopub.execute_input": "2023-10-19T05:38:34.396770Z",
     "iopub.status.busy": "2023-10-19T05:38:34.396551Z",
     "iopub.status.idle": "2023-10-19T05:38:34.401543Z",
     "shell.execute_reply": "2023-10-19T05:38:34.400910Z"
    },
    "papermill": {
     "duration": 0.023688,
     "end_time": "2023-10-19T05:38:34.403081",
     "exception": false,
     "start_time": "2023-10-19T05:38:34.379393",
     "status": "completed"
    },
    "tags": []
   },
   "outputs": [],
   "source": [
    "predictions = decision_tree_model.predict(X_test)"
   ]
  },
  {
   "cell_type": "code",
   "execution_count": 65,
   "id": "5d987539",
   "metadata": {
    "execution": {
     "iopub.execute_input": "2023-10-19T05:38:34.437330Z",
     "iopub.status.busy": "2023-10-19T05:38:34.437085Z",
     "iopub.status.idle": "2023-10-19T05:38:34.444640Z",
     "shell.execute_reply": "2023-10-19T05:38:34.443879Z"
    },
    "papermill": {
     "duration": 0.026281,
     "end_time": "2023-10-19T05:38:34.446152",
     "exception": false,
     "start_time": "2023-10-19T05:38:34.419871",
     "status": "completed"
    },
    "tags": []
   },
   "outputs": [
    {
     "data": {
      "text/html": [
       "<div>\n",
       "<style scoped>\n",
       "    .dataframe tbody tr th:only-of-type {\n",
       "        vertical-align: middle;\n",
       "    }\n",
       "\n",
       "    .dataframe tbody tr th {\n",
       "        vertical-align: top;\n",
       "    }\n",
       "\n",
       "    .dataframe thead th {\n",
       "        text-align: right;\n",
       "    }\n",
       "</style>\n",
       "<table border=\"1\" class=\"dataframe\">\n",
       "  <thead>\n",
       "    <tr style=\"text-align: right;\">\n",
       "      <th></th>\n",
       "      <th>PassengerId</th>\n",
       "      <th>Survived</th>\n",
       "    </tr>\n",
       "  </thead>\n",
       "  <tbody>\n",
       "    <tr>\n",
       "      <th>0</th>\n",
       "      <td>892</td>\n",
       "      <td>0</td>\n",
       "    </tr>\n",
       "    <tr>\n",
       "      <th>1</th>\n",
       "      <td>893</td>\n",
       "      <td>0</td>\n",
       "    </tr>\n",
       "    <tr>\n",
       "      <th>2</th>\n",
       "      <td>894</td>\n",
       "      <td>0</td>\n",
       "    </tr>\n",
       "    <tr>\n",
       "      <th>3</th>\n",
       "      <td>895</td>\n",
       "      <td>0</td>\n",
       "    </tr>\n",
       "    <tr>\n",
       "      <th>4</th>\n",
       "      <td>896</td>\n",
       "      <td>1</td>\n",
       "    </tr>\n",
       "  </tbody>\n",
       "</table>\n",
       "</div>"
      ],
      "text/plain": [
       "   PassengerId  Survived\n",
       "0          892         0\n",
       "1          893         0\n",
       "2          894         0\n",
       "3          895         0\n",
       "4          896         1"
      ]
     },
     "execution_count": 65,
     "metadata": {},
     "output_type": "execute_result"
    }
   ],
   "source": [
    "output = pd.DataFrame({'PassengerId': test_data.index, 'Survived': predictions})\n",
    "output.head()\n"
   ]
  },
  {
   "cell_type": "code",
   "execution_count": 66,
   "id": "3b294d84",
   "metadata": {
    "execution": {
     "iopub.execute_input": "2023-10-19T05:38:34.480647Z",
     "iopub.status.busy": "2023-10-19T05:38:34.480416Z",
     "iopub.status.idle": "2023-10-19T05:38:34.487180Z",
     "shell.execute_reply": "2023-10-19T05:38:34.486276Z"
    },
    "papermill": {
     "duration": 0.026091,
     "end_time": "2023-10-19T05:38:34.488889",
     "exception": false,
     "start_time": "2023-10-19T05:38:34.462798",
     "status": "completed"
    },
    "tags": []
   },
   "outputs": [
    {
     "name": "stdout",
     "output_type": "stream",
     "text": [
      "Your submission was successfully saved!\n"
     ]
    }
   ],
   "source": [
    "output.to_csv('submission.csv', index=False)\n",
    "print(\"Your submission was successfully saved!\")"
   ]
  }
 ],
 "metadata": {
  "kernelspec": {
   "display_name": "Python 3",
   "language": "python",
   "name": "python3"
  },
  "language_info": {
   "codemirror_mode": {
    "name": "ipython",
    "version": 3
   },
   "file_extension": ".py",
   "mimetype": "text/x-python",
   "name": "python",
   "nbconvert_exporter": "python",
   "pygments_lexer": "ipython3",
   "version": "3.10.12"
  },
  "papermill": {
   "default_parameters": {},
   "duration": 12.504816,
   "end_time": "2023-10-19T05:38:34.955904",
   "environment_variables": {},
   "exception": null,
   "input_path": "__notebook__.ipynb",
   "output_path": "__notebook__.ipynb",
   "parameters": {},
   "start_time": "2023-10-19T05:38:22.451088",
   "version": "2.4.0"
  }
 },
 "nbformat": 4,
 "nbformat_minor": 5
}
